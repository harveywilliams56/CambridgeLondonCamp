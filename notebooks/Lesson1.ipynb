{
 "cells": [
  {
   "cell_type": "markdown",
   "id": "3d737cf1",
   "metadata": {},
   "source": [
    "## Lesson 1"
   ]
  },
  {
   "cell_type": "markdown",
   "id": "98c26ff3",
   "metadata": {},
   "source": [
    "### Inputs, Outputs and Dials"
   ]
  },
  {
   "cell_type": "markdown",
   "id": "44e3d2b6",
   "metadata": {},
   "source": [
    "Here we **import** the **libraries** numpy and matplotlib. Libraries are collections of someone else's code that does useful things for us. We must first install this code on our computer (by typing \"pip install numpy\" into the terminal) and then **import** it into our programme, like importing silk or tea into a country."
   ]
  },
  {
   "cell_type": "code",
   "execution_count": null,
   "id": "19234988",
   "metadata": {},
   "outputs": [],
   "source": [
    "# DO NOT CHANGE THIS CODE\n",
    "\n",
    "import numpy as np # NOTE to self: must get numpy installed for students\n",
    "import matplotlib.pyplot as plt # ditto must get matplotlib installed for students\n"
   ]
  },
  {
   "cell_type": "markdown",
   "id": "1bb35d9a",
   "metadata": {},
   "source": [
    "Here I make up some **training data**. We have an imaginary group of 40 people and we measure their shoe size (in mm) and their height (in cm). We split the data into **training data** and **test data**. The training data is the first 30 people, we use this to teach a basic AI the relationship between shoe size and height. We will use it to try and predict the height of the other 10 people, given their shoe size. "
   ]
  },
  {
   "cell_type": "code",
   "execution_count": null,
   "id": "1bebff59",
   "metadata": {},
   "outputs": [],
   "source": [
    "# DO NOT CHANGE THIS CODE!\n",
    "np.random.seed(42)\n",
    "shoe_size = np.random.randint(180, 300, 40)  # shoe sizes from 220mm to 300mm\n",
    "\n",
    "# Here we are cheating - really we should just measure the actual height and shoe size of real people but I'm making up some data\n",
    "# (I'm allowed to do this because it's an example - in real science we're not allowed to make up data!)\n",
    "height = 0.5 * shoe_size + 50 + np.random.normal(scale=5, size=shoe_size.shape) \n",
    "\n",
    "training_x = shoe_size[0:30]  # First 30 people's shoe sizes are our training x data - the \"independent variable\" - remember Python lists start counting at 0\n",
    "training_y = height[0:30]  # First 30 people's heights are our training y data - the \"dependent variable\"\n",
    "\n",
    "test_x = shoe_size[30:40]  # Last 10 people's shoe sizes are our test x data - the \"independent variable\"\n",
    "test_y = height[30:40]  # Last 10 people's heights are our test y data - the \"dependent variable\"\n",
    "\n",
    "\n",
    "plt.scatter(training_x, training_y, label='Training Data') #\n",
    "# plt.scatter(test_x, test_y, label='Test Data', color='orange') \n",
    "plt.legend()\n",
    "plt.xlabel('Shoe Size (mm)')\n",
    "plt.ylabel('Height (cm)')\n",
    "plt.show()"
   ]
  },
  {
   "cell_type": "markdown",
   "id": "b20828c9",
   "metadata": {},
   "source": [
    "Here we make an extremely simple \"AI\" which tries to predict someon's height based on their shoe size. Our **model** or **architecture** is just a single straight line. \n",
    "\n",
    "This AI model has two controls we can tune - a single \"weight\" (an AI word meaning slope) and a single \"bias\" (an AI word meaning intercept).\n",
    "\n",
    "We can train our model by looking at it - try a few different values of \"weight\" and \"bias\" and make the line fit the data as well as you can."
   ]
  },
  {
   "cell_type": "code",
   "execution_count": null,
   "id": "ef506487",
   "metadata": {},
   "outputs": [],
   "source": [
    "# ~~~~~~~~~~~~~~~~~~~~~~~~~~~~~~~~~~~~~~~~\n",
    "# CHANGE THIS CODE!\n",
    "# Try changing the value of \"weight\" (the slope) and \"bias\" (the intercept) below to see how good we can make the fit.\n",
    "weight = 0.5  # Initial guess for slope - weight is a special word in AI, which is nothing to do with how fat someone is!!!\n",
    "bias = 50  # Initial guess for intercept - bias is another special word in AI, it has two meanings which we should discuss in class. Please ask me about it!\n",
    "\n",
    "# ~~~~~~~~~~~~~~~~~~~~~~~~~~~~~~~~~~~~~~~~\n",
    "\n",
    "# DO NOT CHANGE THIS CODE!\n",
    "plt.figure()\n",
    "\n",
    "plt.scatter(training_x, training_y, label='Training Data', color='blue')  # This is the data we have trained our AI on\n",
    "plt.plot(shoe_size, weight * shoe_size + bias, label=\"AI Prediction\", color='red')  # This is what we have trained our AI to predict\n",
    "plt.xlabel('Shoe Size (mm)')\n",
    "plt.ylabel('Height (cm)')\n",
    "plt.title(f'AI Predicting Height from Shoe Size')\n",
    "plt.legend()\n",
    "plt.show()\n",
    "\n",
    "# ----\n",
    "# Adjust the values of m (slope) and c (intercept) below,\n",
    "# then re-run this cell to see the updated fit.\n",
    "\n",
    "\n",
    "# Plot the result\n"
   ]
  },
  {
   "cell_type": "markdown",
   "id": "57cf6409",
   "metadata": {},
   "source": [
    "The magic behind machine learning/artificial intelligence is that rather than changing the settings by hand, we can make a computer change the settings for us.\n",
    "\n",
    "**Ask me about the loss function and gradient descent - we can be infinitely wrong but we can only be so right (0 wrong)**"
   ]
  },
  {
   "cell_type": "code",
   "execution_count": null,
   "id": "39eaa77d",
   "metadata": {},
   "outputs": [],
   "source": [
    "# DO NOT CHANGE THIS CODE\n",
    "\n",
    "# Here we describe our simple AI model as a class.\n",
    "# class is like a blueprint for a building - it tells the computer how to create an AI model\n",
    "\n",
    "class SimpleAI:\n",
    "    def __init__(self, weight=0.7, bias=40.0):\n",
    "        self.weight = weight\n",
    "        self.bias = bias\n",
    "\n",
    "    def predict(self, x):\n",
    "        return self.weight * x + self.bias\n",
    "    \n",
    "    def loss(self, x, y):\n",
    "        predictions = self.predict(x)\n",
    "        return np.mean((predictions - y) ** 2)\n",
    "    \n",
    "    def train_one_step(self, x, y, learning_rate=0.1):\n",
    "        predictions = self.predict(x)\n",
    "        error = predictions - y\n",
    "        \n",
    "        # Calculate gradients\n",
    "        weight_gradient = np.mean(2* error * x)\n",
    "        bias_gradient = np.mean(error)\n",
    "        \n",
    "        # Update parameters\n",
    "        self.weight -= learning_rate * weight_gradient * 0.0001 # This 0.0001 is a special trick I put in there because training AI is complicated! See what happens if you change it!\n",
    "        self.bias -= learning_rate * bias_gradient \n",
    "\n",
    "    def show_prediction(self, x, training_x, training_y):\n",
    "        plt.figure()\n",
    "        plt.scatter(training_x, training_y, label='Training Data', color='blue')\n",
    "        plt.plot(x, self.predict(x), label=\"AI Prediction\", color='red')\n",
    "        plt.xlabel('Shoe Size (mm)')\n",
    "        plt.ylabel('Height (cm)')\n",
    "        plt.title(f'AI Predicting Height from Shoe Size\\nWeight: {self.weight:.2f}, Bias: {self.bias:.2f}, Loss: {self.loss(training_x, training_y):.2f}')\n",
    "        plt.legend()\n",
    "        plt.show()\n"
   ]
  },
  {
   "cell_type": "markdown",
   "id": "47261c3f",
   "metadata": {},
   "source": [
    "Run the below code once to reset our model"
   ]
  },
  {
   "cell_type": "code",
   "execution_count": null,
   "id": "c7a213ba",
   "metadata": {},
   "outputs": [],
   "source": [
    "# DO NOT CHANGE THIS CODE\n",
    "\n",
    "# Run this code ONCE every time you want to reset the AI model\n",
    "\n",
    "HeightFromShoeSizeAI = SimpleAI() # Here we create an \"instance\" of our AI class \n",
    "print(f\"weight: {HeightFromShoeSizeAI.weight}, bias: {HeightFromShoeSizeAI.bias}\")\n",
    "\n",
    "HeightFromShoeSizeAI.show_prediction(shoe_size, training_x, training_y)\n"
   ]
  },
  {
   "cell_type": "code",
   "execution_count": null,
   "id": "8edc2000",
   "metadata": {},
   "outputs": [],
   "source": [
    "# DO NOT CHANGE THIS CODE\n",
    "\n",
    "# Run this code several times and watch what happens to the weight and bias - they get changed to better choices!\n",
    "# Notice also how the loss gets smaller and smaller - this is how we know our AI is learning!\n",
    "\n",
    "HeightFromShoeSizeAI.train_one_step(training_x, training_y, learning_rate=0.1)\n",
    "print(f\"weight: {HeightFromShoeSizeAI.weight}, bias: {HeightFromShoeSizeAI.bias}\")\n",
    "print(f'loss: {HeightFromShoeSizeAI.loss(training_x, training_y)}')\n",
    "\n",
    "\n",
    "\n",
    "HeightFromShoeSizeAI.show_prediction(shoe_size, training_x, training_y)\n"
   ]
  },
  {
   "cell_type": "code",
   "execution_count": null,
   "id": "c3035219",
   "metadata": {},
   "outputs": [],
   "source": [
    "# DO NOT CHANGE THIS CODE\n",
    "\n",
    "model = SimpleAI() # Create a new **instance** of our AI model - an instance is like an actual building vs the blueprint of the class\n",
    "params = [(model.weight, model.bias, model.loss(training_x, training_y))]\n",
    "for i in range(9):\n",
    "    model.train_one_step(training_x, training_y, learning_rate=0.1)\n",
    "    params.append((model.weight, model.bias, model.loss(training_x, training_y)))\n",
    "\n",
    "# Plot progress in a 2x5 grid\n",
    "fig, axes = plt.subplots(2, 5, figsize=(15, 6))\n",
    "axes = axes.flatten()\n",
    "for idx, (w, b, loss) in enumerate(params):\n",
    "    ax = axes[idx]\n",
    "    ax.scatter(training_x, training_y, label='Training Data', color='blue')\n",
    "    ax.plot(shoe_size, w * shoe_size + b, label=\"AI Prediction\", color='red')\n",
    "    ax.set_title(f\"Step {idx}, Loss={loss:.2f}\\nw={w:.2f}, b={b:.2f}\")\n",
    "    ax.set_xlabel(\"Shoe Size (mm)\")\n",
    "    ax.set_ylabel(\"Height (cm)\")\n",
    "    ax.grid(True)\n",
    "plt.tight_layout()\n",
    "plt.show()\n"
   ]
  },
  {
   "cell_type": "markdown",
   "id": "9f4ce6ca",
   "metadata": {},
   "source": [
    "We can now see how well our AI works - try putting in your real shoe size and height!"
   ]
  },
  {
   "cell_type": "code",
   "execution_count": null,
   "id": "08de9ac1",
   "metadata": {},
   "outputs": [],
   "source": [
    "MyShoeSize = 262\n",
    "MyHeight = 167 \n",
    "AI_Predicted_Height = model.predict(MyShoeSize)\n",
    "\n",
    "plt.scatter([MyShoeSize], [MyHeight], color='green', label='My Real Height')\n",
    "plt.scatter([MyShoeSize], [AI_Predicted_Height], color='red', label='AI Predicting My Height', marker='^', linewidths=5)\n",
    "plt.scatter(training_x, training_y, label='Training Data', color='blue')\n",
    "plt.plot(shoe_size, model.weight * shoe_size + model.bias, label=\"AI Model\", color='red', alpha=0.5)\n",
    "plt.xlabel('Shoe Size (mm)')\n",
    "plt.ylabel('Height (cm)')\n",
    "plt.legend()\n",
    "plt.show()"
   ]
  },
  {
   "cell_type": "code",
   "execution_count": null,
   "id": "2dfa7cb7",
   "metadata": {},
   "outputs": [],
   "source": [
    "# DO NOT CHANGE THIS CODE\n",
    "\n",
    "# Here we take a look at the loss surface around our model's parameters\n",
    "\n",
    "newmodel = SimpleAI(weight=0.5, bias=50)\n",
    "\n",
    "import numpy as np\n",
    "import matplotlib.pyplot as plt\n",
    "from mpl_toolkits.mplot3d import Axes3D\n",
    "\n",
    "# Assumes `model`, `x`, and `y` are already defined in the notebook.\n",
    "\n",
    "# 1) Define parameter grid around weight=0.5±0.25 and bias=50±10\n",
    "w_vals = np.linspace(0.25, 0.75, 50)\n",
    "b_vals = np.linspace(30, 70, 50)\n",
    "W, B = np.meshgrid(w_vals, b_vals)\n",
    "\n",
    "# 2) Compute loss for each (weight, bias) pair using model.loss\n",
    "Loss = np.zeros_like(W)\n",
    "for i in range(W.shape[0]):\n",
    "    for j in range(W.shape[1]):\n",
    "        newmodel.weight = W[i, j]\n",
    "        newmodel.bias   = B[i, j]\n",
    "        Loss[i, j] = newmodel.loss(training_x, training_y)\n",
    "\n",
    "\n",
    "min_idx = np.unravel_index(np.argmin(Loss), Loss.shape)\n",
    "w_min, b_min, loss_min = W[min_idx], B[min_idx], Loss[min_idx]\n",
    "\n",
    "\n",
    "\n",
    "# 3) Plot the 3D loss surface\n",
    "fig = plt.figure(figsize=(8, 6))\n",
    "ax = fig.add_subplot(projection='3d')\n",
    "surface = ax.plot_surface(W, B, Loss, cmap='viridis', alpha=0.7)\n",
    "ax.set_xlabel('weight')\n",
    "ax.set_ylabel('bias')\n",
    "ax.set_zlabel('(log) MSE Loss')\n",
    "\n",
    "# Highlight the minimum\n",
    "ax.scatter(w_min, b_min, loss_min, color='red', s=50, marker='^', linewidths=1, zorder=10)\n",
    "ax.text(w_min, b_min, loss_min, \n",
    "        f'Min\\n(w={w_min:.3f}, b={b_min:.2f}, loss={loss_min:.2f})',\n",
    "        color='red', fontsize=10)\n",
    "\n",
    "\n",
    "fig.colorbar(surface, shrink=0.5, aspect=10, label='Loss', orientation='vertical')\n",
    "\n",
    "\n",
    "\n",
    "plt.tight_layout()\n",
    "plt.show()\n"
   ]
  }
 ],
 "metadata": {
  "kernelspec": {
   "display_name": ".venv",
   "language": "python",
   "name": "python3"
  },
  "language_info": {
   "codemirror_mode": {
    "name": "ipython",
    "version": 3
   },
   "file_extension": ".py",
   "mimetype": "text/x-python",
   "name": "python",
   "nbconvert_exporter": "python",
   "pygments_lexer": "ipython3",
   "version": "3.12.3"
  }
 },
 "nbformat": 4,
 "nbformat_minor": 5
}
