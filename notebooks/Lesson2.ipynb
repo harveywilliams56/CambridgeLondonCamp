{
 "cells": [
  {
   "cell_type": "markdown",
   "id": "a442e195",
   "metadata": {},
   "source": [
    "# Lesson 2"
   ]
  },
  {
   "cell_type": "markdown",
   "id": "617d997d",
   "metadata": {},
   "source": [
    "## Generic AI\n",
    "\n",
    "AI is just a function, with lots of parameters we can change, which takes an input and produces an output.\n",
    "\n",
    "<img alt=\"\" width=\"500\" caption=\"Machine Learning Schematic\" src=\"lesson_images/ML_Schematic.png\" id=\"ML_Schematic\"/>\n",
    "\n",
    "When we train an AI model, we measure the distance between the AI model output and the correct output - this is called the **loss**. We then adjust the parameters to make the model output a little closer to the correct ouput.\n",
    "\n",
    "<img alt=\"\" width=\"500\" caption=\"Training Machine Learning Schematic\" src=\"lesson_images/ML_Training_Schematic.png\" id=\"ML_Training_Schematic\"/>\n",
    "\n",
    "Remember the loss from lesson 1?\n",
    "\n",
    "<img alt=\"\" width=\"500\" caption=\"The loss from our height-shoe-size AI\" src=\"lesson_images/loss.png\" id=\"loss\"/>"
   ]
  },
  {
   "cell_type": "markdown",
   "id": "578ded49",
   "metadata": {},
   "source": [
    "## Single Layer Perceptron"
   ]
  },
  {
   "cell_type": "markdown",
   "id": "d3b1f9e3",
   "metadata": {},
   "source": [
    "<img alt=\"Natural and artificial neurons\" width=\"500\" caption=\"Natural and artificial neurons\" src=\"../data/lesson_images/chapter7_neuron.png\" id=\"neuron\"/>"
   ]
  },
  {
   "cell_type": "markdown",
   "id": "e02734ec",
   "metadata": {},
   "source": [
    "Inspired by real neurones - multiple incoming signals arrive at different dendrites, with different sensitivity (**weight**). If they add together in the right combination, the neurone fires.\n",
    "\n",
    "Let's build a simple neural net - the Rosenblatt perceptron - to read handwritten numbers. It will have 10 neurones, one for each number from 0...9 that we want to detect. The right neurone should turn on for the right number. \n",
    "\n",
    "Our Perceptron will \"see\" images of numbers (from the MNIST public training set) which are 28x28 = 784 pixels. So each neurone will have 784 dendrites - one for each pixel in the image - and each dendrite will have its own sensitivity to each pixel, called the **weight**. \n",
    "\n",
    "Each neurone will also have a total sensitivity which decides how easily it is turned on by the pixels. This is called the **bias** (which has more than one meaning in AI - ask me about it!).\n",
    "\n",
    "In total our Perceptron model will have 784x10 = 7840 **weights** and 1x10 = 10 **biases**. So it has 7850 total parameters it must learn.\n",
    "\n",
    "Today we will only make our perceptron learn how to recognise two numbers - 3 and 7 - using two neurones. This means our model only needs 784x2 = 1568 weights and 1x2 = 2 biases for a total of 1570 parameters. This will be approximately 5 times faster to train than learning all 10 numbers."
   ]
  },
  {
   "cell_type": "code",
   "execution_count": 2,
   "id": "11b23afb",
   "metadata": {},
   "outputs": [],
   "source": [
    "import fastbook\n",
    "fastbook.setup_book()"
   ]
  },
  {
   "cell_type": "code",
   "execution_count": 3,
   "id": "4a77155a",
   "metadata": {},
   "outputs": [],
   "source": [
    "from fastai.vision.all import *\n",
    "from fastbook import *"
   ]
  },
  {
   "cell_type": "code",
   "execution_count": null,
   "id": "6c53f463",
   "metadata": {},
   "outputs": [],
   "source": [
    "path = untar_data(URLs.MNIST) # Download the MNIST training images"
   ]
  },
  {
   "cell_type": "code",
   "execution_count": 72,
   "id": "d42d04d7",
   "metadata": {},
   "outputs": [
    {
     "data": {
      "text/plain": [
       "<matplotlib.image.AxesImage at 0x707fe50ff440>"
      ]
     },
     "execution_count": 72,
     "metadata": {},
     "output_type": "execute_result"
    },
    {
     "data": {
      "image/png": "[encoded data removed]",
      "text/plain": [
       "<Figure size 640x480 with 1 Axes>"
      ]
     },
     "metadata": {},
     "output_type": "display_data"
    }
   ],
   "source": [
    "# Feel free to change this code\n",
    "\n",
    "test_image_path = (path/'testing'/'1').ls()[579] # Try chanigng the 3 to another number and see what happens\n",
    "test_image = Image.open(test_image_path)\n",
    "test_image_tensor = tensor(test_image).view(-1, 28*28).float()/255\n",
    "plt.imshow(test_image, cmap='gray')"
   ]
  },
  {
   "cell_type": "code",
   "execution_count": 6,
   "id": "7fb19797",
   "metadata": {},
   "outputs": [
    {
     "data": {
      "text/plain": [
       "(torch.Size([6265, 28, 28]), torch.Size([6131, 28, 28]))"
      ]
     },
     "execution_count": 6,
     "metadata": {},
     "output_type": "execute_result"
    }
   ],
   "source": [
    "# DO NOT CHANGE THIS \n",
    "\n",
    "# This code opens up all of our images and puts them into two big lists\n",
    "# We use a library called 'torch' becuase it does it in a way that allows\n",
    "# ..the computer to make very fast calculations\n",
    "\n",
    "\n",
    "stacked_zeros = torch.stack([tensor(Image.open(o)) for o in (path/'training'/'0').ls()]).float()/255 # Brightness is between 0 and 255 but we want it between 0 and 1\n",
    "stacked_ones = torch.stack([tensor(Image.open(o)) for o in (path/'training'/'1').ls()]).float()/255 \n",
    "stacked_twos = torch.stack([tensor(Image.open(o)) for o in (path/'training'/'2').ls()]).float()/255 \n",
    "stacked_threes = torch.stack([tensor(Image.open(o)) for o in (path/'training'/'3').ls()]).float()/255 \n",
    "stacked_fours = torch.stack([tensor(Image.open(o)) for o in (path/'training'/'4').ls()]).float()/255 \n",
    "stacked_fives = torch.stack([tensor(Image.open(o)) for o in (path/'training'/'5').ls()]).float()/255 \n",
    "stacked_sixes = torch.stack([tensor(Image.open(o)) for o in (path/'training'/'6').ls()]).float()/255 \n",
    "stacked_sevens = torch.stack([tensor(Image.open(o)) for o in (path/'training'/'7').ls()]).float()/255 \n",
    "stacked_eights = torch.stack([tensor(Image.open(o)) for o in (path/'training'/'8').ls()]).float()/255 \n",
    "stacked_nines = torch.stack([tensor(Image.open(o)) for o in (path/'training'/'9').ls()]).float()/255 \n",
    "\n",
    "\n",
    "stacked_sevens.shape, stacked_threes.shape # This shows the shape of our lists\n",
    "# Our lists have around 6000 images, each of which is 28x28 pixels"
   ]
  },
  {
   "cell_type": "code",
   "execution_count": 43,
   "id": "3dc2e754",
   "metadata": {},
   "outputs": [
    {
     "data": {
      "text/plain": [
       "torch.Size([60000, 784])"
      ]
     },
     "execution_count": 43,
     "metadata": {},
     "output_type": "execute_result"
    }
   ],
   "source": [
    "# DO NOT CHANGE THIS CODE\n",
    "\n",
    "# Here we combine our two lists into one big list\n",
    "# We also take each 28x28 square image and turn it into a long list of 784 pixels\n",
    "\n",
    "train_x = torch.cat([stacked_zeros, stacked_ones, stacked_twos, stacked_threes, stacked_fours, stacked_fives, stacked_sixes, stacked_sevens, stacked_eights, stacked_nines]).view(-1, 28*28)\n",
    "train_x.shape\n",
    "\n",
    "# Our list shape is (60000, 784) - 12000 total images squished into flat lists of 784 pixels"
   ]
  },
  {
   "cell_type": "code",
   "execution_count": null,
   "id": "b1fe693c",
   "metadata": {},
   "outputs": [
    {
     "data": {
      "text/plain": [
       "(torch.Size([60000, 10]), tensor([0., 1., 0., 0., 0., 0., 0., 0., 0., 0.]))"
      ]
     },
     "execution_count": 7,
     "metadata": {},
     "output_type": "execute_result"
    }
   ],
   "source": [
    "# DO NOT CHANGE THIS CODE\n",
    "\n",
    "# Here we create the training output - our model should output [1, 0, 0, 0, 0, 0, 0, 0, 0, 0] when it sees a 0,\n",
    "# .. it should output [0, 1, 0, 0, 0, 0, 0, 0, 0, 0] when it sees a 1,\n",
    "# .. it should output [0, 0, 1, 0, 0, 0, 0, 0, 0, 0] when it sees a 2,\n",
    "# .. and so on up to 9\n",
    "# This corresponds to the zero-neurone turning on for a 0 and the two-neurone turning on for a 2 etc\n",
    "\n",
    "train_y = tensor([[1.0,0.0]]*len(stacked_threes) + [[0.0, 1.0]]*len(stacked_sevens))\n",
    "\n",
    "train_y = torch.cat([torch.tensor([[1.0, 0.0, 0.0, 0.0, 0.0, 0.0, 0.0, 0.0, 0.0, 0.0]])]*len(stacked_zeros) +\n",
    "                    [torch.tensor([[0.0, 1.0, 0.0, 0.0, 0.0, 0.0, 0.0, 0.0, 0.0, 0.0]])]*len(stacked_ones) +\n",
    "                    [torch.tensor([[0.0, 0.0, 1.0, 0.0, 0.0, 0.0, 0.0, 0.0, 0.0, 0.0]])]*len(stacked_twos) +\n",
    "                    [torch.tensor([[0.0, 0.0, 0.0, 1.0, 0.0, 0.0, 0.0, 0.0, 0.0, 0.0]])]*len(stacked_threes) +\n",
    "                    [torch.tensor([[0.0, 0.0, 0.0, 0.0, 1.0, 0.0, 0.0, 0.0, 0.0, 0.0]])]*len(stacked_fours) +\n",
    "                    [torch.tensor([[0.0, 0.0, 0.0, 0.0, 0.0, 1.0, 0.0, 0.0, 0.0, 0.0]])]*len(stacked_fives) +\n",
    "                    [torch.tensor([[0.0, 0.0, 0.0, 0.0, 0.0, 0.0, 1.0, 0.0, 0.0, 0.0]])]*len(stacked_sixes) +\n",
    "                    [torch.tensor([[0.0, 0.0, 0.0, 0.0, 0.0, 0.0, 0.0, 1.0, 0.0, 0.0]])]*len(stacked_sevens) +\n",
    "                    [torch.tensor([[0.0, 0.0, 0.0, 0.0, 0.0, 0.0, 0.0, 0.0, 1.0, 0.0]])]*len(stacked_eights) +\n",
    "                    [torch.tensor([[0.0, 0.0, 0.0, 0.0, 0.0, 0.0, 0.0, 0.0, 0.0, 1.0]])]*len(stacked_nines))\n",
    "train_y.shape, train_y[8000]\n",
    "# our list shape is  (12000, 2) - 12000 lots of lists of 2 numbers"
   ]
  },
  {
   "cell_type": "code",
   "execution_count": null,
   "id": "afec544f",
   "metadata": {},
   "outputs": [],
   "source": [
    "# DO NOT CHANGE THIS CODE\n",
    "\n",
    "# Here we describe our AI model so that the computer can build it\n",
    "# We describe is as a **class** - which is like a blueprint for a building\n",
    "\n",
    "class OneLayerPerceptron():\n",
    "\n",
    "    def __init__(self, std=1.0, number_of_neurones=2): # This automatically runs when we create an **instance** of the OneLayerPerceptron\n",
    "        self.weights = (torch.randn(28*28, number_of_neurones)*std).requires_grad_() # This is the collection of dendrites for each neurone - one dendrite for each pixel\n",
    "        self.biases = (torch.randn(number_of_neurones)*std).requires_grad_() # This is the bias for the neurone\n",
    "        self.learning_rate = 0.01 # This is the learning rate, which controls how quickly we change the weights and biases each time we train\n",
    "\n",
    "\n",
    "    def predict(self, x): # This is the function that takes an input and returns the output of our model\n",
    "\n",
    "        return F.softmax((x @ self.weights) + self.biases, dim=1) # This is the output of our model \n",
    "\n",
    "\n",
    "    def loss(self, input, training_output): # The loss represents the distance betwwen the AI prediction and the correct answer\n",
    "\n",
    "        return F.mse_loss(self.predict(input), training_output)\n",
    "    \n",
    "    def train_one_step(self, input_batch, training_output_batch): # Update the weights and biases to make the prediction a little closer to the correct answer\n",
    "\n",
    "        x = input_batch\n",
    "        y = training_output_batch\n",
    "\n",
    "        loss = self.loss(x, y)\n",
    "        loss.backward() # This calculates the gradients for our weights and biases\n",
    "\n",
    "\n",
    "        # Now we update the weights and biases using the gradients, to move our prediction towards the correct answer\n",
    "        with torch.no_grad():\n",
    "            self.weights -= self.weights.grad * self.learning_rate # This is the learning rate\n",
    "            self.biases -= self.biases.grad * self.learning_rate\n",
    "\n",
    "        # This clears the gradients ready for next time \n",
    "        self.weights.grad.zero_()\n",
    "        self.biases.grad.zero_()\n",
    "\n",
    "        # Return the loss so we can see how well the model is doing\n",
    "        return loss.item()\n",
    "    \n",
    "    def get_batch(self, input, training_output, batch_size=64): # We select a random group of training images (called a **batch**) each time we train\n",
    "        idxs = torch.randint(0, len(input), (batch_size,))\n",
    "        return input[idxs], training_output[idxs]\n",
    "    \n",
    "    def train(self, input, training_data, cycles=1, batch_size=64, learning_rate=0.01):\n",
    "        \n",
    "        self.learning_rate = learning_rate # At the beginning of training, we decide how quickly to move the weights and biases towards the correct answer\n",
    "        \n",
    "        for i in range(cycles):\n",
    "            input_batch, training_output_batch = self.get_batch(input, training_data, batch_size)\n",
    "            loss = self.train_one_step(input_batch, training_output_batch)\n",
    "\n",
    "            # The correct percentage is the proportion of AI predictions which are correct\n",
    "            correct_percentage = (self.predict(input_batch).argmax(dim=1) == training_output_batch.argmax(dim=1)).float().mean().item()\n",
    "           \n",
    "            if i % 100 == 0: # Every 100 cycles, we print useful information\n",
    "                print(f\"Cycle {i}, Loss: {loss:.4f}, Accuracy: {correct_percentage:.2%}\")\n",
    "\n",
    "        return loss # Return the final loss so we can see how well the model has trained"
   ]
  },
  {
   "cell_type": "code",
   "execution_count": 137,
   "id": "03531c39",
   "metadata": {},
   "outputs": [],
   "source": [
    "# DO NOT CHANGE THIS CODE\n",
    "\n",
    "# Here we **instantiate** the OneLayerPerceptron class, which creates an **instance** of the model\n",
    "# Instances are like actual real buildings - vs **Classes** which are like blueprints for buildings\n",
    "model = OneLayerPerceptron(number_of_neurones=10) # Create a model with 784 inputs and 2 outputs (for the two neurones)"
   ]
  },
  {
   "cell_type": "markdown",
   "id": "2c35bdde",
   "metadata": {},
   "source": [
    "**Remember the test number from earlier?** Let's see if our model can predict the right answer..."
   ]
  },
  {
   "cell_type": "code",
   "execution_count": 134,
   "id": "c94fa6a9",
   "metadata": {},
   "outputs": [
    {
     "name": "stdout",
     "output_type": "stream",
     "text": [
      "The model predicts that the number is: 6\n"
     ]
    },
    {
     "data": {
      "text/plain": [
       "<matplotlib.image.AxesImage at 0x707fe4492690>"
      ]
     },
     "execution_count": 134,
     "metadata": {},
     "output_type": "execute_result"
    },
    {
     "data": {
      "image/png": "[encoded data removed]",
      "text/plain": [
       "<Figure size 640x480 with 1 Axes>"
      ]
     },
     "metadata": {},
     "output_type": "display_data"
    }
   ],
   "source": [
    "# DO NOT CHANGE THIS CODE\n",
    "\n",
    "# Remember the test image we opened earlier? Let's see if our model can predict what number it is!\n",
    "print(f'The model predicts that the number is: {model.predict(test_image_tensor).argmax(dim=1).item()}')\n",
    "plt.imshow(test_image, cmap='gray')"
   ]
  },
  {
   "cell_type": "markdown",
   "id": "ceace345",
   "metadata": {},
   "source": [
    "**The prediction is completely wrong!** This is because we haven't *trained* the model yet... "
   ]
  },
  {
   "cell_type": "code",
   "execution_count": 142,
   "id": "28208266",
   "metadata": {},
   "outputs": [
    {
     "name": "stdout",
     "output_type": "stream",
     "text": [
      "Cycle 0, Loss: 0.0256, Accuracy: 84.38%\n",
      "Cycle 100, Loss: 0.0257, Accuracy: 83.98%\n",
      "Cycle 200, Loss: 0.0295, Accuracy: 83.20%\n",
      "Cycle 300, Loss: 0.0141, Accuracy: 92.58%\n",
      "Cycle 400, Loss: 0.0187, Accuracy: 88.67%\n",
      "Cycle 500, Loss: 0.0138, Accuracy: 91.41%\n",
      "Cycle 600, Loss: 0.0084, Accuracy: 95.31%\n",
      "Cycle 700, Loss: 0.0161, Accuracy: 90.62%\n",
      "Cycle 800, Loss: 0.0110, Accuracy: 94.14%\n",
      "Cycle 900, Loss: 0.0115, Accuracy: 93.36%\n",
      "Cycle 1000, Loss: 0.0133, Accuracy: 92.19%\n",
      "Cycle 1100, Loss: 0.0110, Accuracy: 93.36%\n",
      "Cycle 1200, Loss: 0.0158, Accuracy: 91.41%\n",
      "Cycle 1300, Loss: 0.0147, Accuracy: 91.02%\n",
      "Cycle 1400, Loss: 0.0161, Accuracy: 91.41%\n",
      "Cycle 1500, Loss: 0.0133, Accuracy: 92.58%\n",
      "Cycle 1600, Loss: 0.0174, Accuracy: 89.84%\n",
      "Cycle 1700, Loss: 0.0149, Accuracy: 91.02%\n",
      "Cycle 1800, Loss: 0.0137, Accuracy: 92.58%\n",
      "Cycle 1900, Loss: 0.0102, Accuracy: 94.53%\n",
      "Cycle 2000, Loss: 0.0143, Accuracy: 91.80%\n",
      "Cycle 2100, Loss: 0.0109, Accuracy: 94.14%\n",
      "Cycle 2200, Loss: 0.0136, Accuracy: 92.58%\n",
      "Cycle 2300, Loss: 0.0145, Accuracy: 91.41%\n",
      "Cycle 2400, Loss: 0.0126, Accuracy: 93.36%\n",
      "Cycle 2500, Loss: 0.0160, Accuracy: 90.23%\n",
      "Cycle 2600, Loss: 0.0142, Accuracy: 91.41%\n",
      "Cycle 2700, Loss: 0.0126, Accuracy: 93.36%\n",
      "Cycle 2800, Loss: 0.0159, Accuracy: 91.41%\n",
      "Cycle 2900, Loss: 0.0090, Accuracy: 94.53%\n",
      "Cycle 3000, Loss: 0.0174, Accuracy: 90.62%\n",
      "Cycle 3100, Loss: 0.0106, Accuracy: 94.14%\n",
      "Cycle 3200, Loss: 0.0177, Accuracy: 89.84%\n",
      "Cycle 3300, Loss: 0.0093, Accuracy: 94.92%\n",
      "Cycle 3400, Loss: 0.0100, Accuracy: 94.53%\n",
      "Cycle 3500, Loss: 0.0149, Accuracy: 91.02%\n",
      "Cycle 3600, Loss: 0.0123, Accuracy: 92.58%\n",
      "Cycle 3700, Loss: 0.0111, Accuracy: 93.36%\n",
      "Cycle 3800, Loss: 0.0130, Accuracy: 92.58%\n",
      "Cycle 3900, Loss: 0.0096, Accuracy: 94.92%\n",
      "Cycle 4000, Loss: 0.0079, Accuracy: 96.09%\n",
      "Cycle 4100, Loss: 0.0097, Accuracy: 94.92%\n",
      "Cycle 4200, Loss: 0.0101, Accuracy: 94.14%\n",
      "Cycle 4300, Loss: 0.0134, Accuracy: 92.58%\n",
      "Cycle 4400, Loss: 0.0111, Accuracy: 93.36%\n",
      "Cycle 4500, Loss: 0.0124, Accuracy: 92.97%\n",
      "Cycle 4600, Loss: 0.0105, Accuracy: 93.75%\n",
      "Cycle 4700, Loss: 0.0107, Accuracy: 94.14%\n",
      "Cycle 4800, Loss: 0.0093, Accuracy: 94.53%\n",
      "Cycle 4900, Loss: 0.0102, Accuracy: 94.14%\n",
      "Cycle 5000, Loss: 0.0110, Accuracy: 94.53%\n",
      "Cycle 5100, Loss: 0.0147, Accuracy: 92.19%\n",
      "Cycle 5200, Loss: 0.0159, Accuracy: 91.02%\n",
      "Cycle 5300, Loss: 0.0139, Accuracy: 92.19%\n",
      "Cycle 5400, Loss: 0.0138, Accuracy: 92.19%\n",
      "Cycle 5500, Loss: 0.0104, Accuracy: 93.75%\n",
      "Cycle 5600, Loss: 0.0096, Accuracy: 95.31%\n",
      "Cycle 5700, Loss: 0.0116, Accuracy: 93.75%\n",
      "Cycle 5800, Loss: 0.0094, Accuracy: 94.14%\n",
      "Cycle 5900, Loss: 0.0120, Accuracy: 92.58%\n",
      "Cycle 6000, Loss: 0.0103, Accuracy: 94.14%\n",
      "Cycle 6100, Loss: 0.0077, Accuracy: 95.70%\n",
      "Cycle 6200, Loss: 0.0123, Accuracy: 93.75%\n",
      "Cycle 6300, Loss: 0.0135, Accuracy: 92.19%\n",
      "Cycle 6400, Loss: 0.0100, Accuracy: 93.75%\n",
      "Cycle 6500, Loss: 0.0093, Accuracy: 94.92%\n",
      "Cycle 6600, Loss: 0.0074, Accuracy: 95.31%\n",
      "Cycle 6700, Loss: 0.0110, Accuracy: 94.14%\n",
      "Cycle 6800, Loss: 0.0080, Accuracy: 95.31%\n",
      "Cycle 6900, Loss: 0.0122, Accuracy: 93.36%\n",
      "Cycle 7000, Loss: 0.0119, Accuracy: 93.36%\n",
      "Cycle 7100, Loss: 0.0093, Accuracy: 94.53%\n",
      "Cycle 7200, Loss: 0.0109, Accuracy: 94.14%\n",
      "Cycle 7300, Loss: 0.0109, Accuracy: 93.75%\n",
      "Cycle 7400, Loss: 0.0074, Accuracy: 96.09%\n",
      "Cycle 7500, Loss: 0.0086, Accuracy: 94.92%\n",
      "Cycle 7600, Loss: 0.0100, Accuracy: 93.75%\n",
      "Cycle 7700, Loss: 0.0058, Accuracy: 96.48%\n",
      "Cycle 7800, Loss: 0.0107, Accuracy: 94.53%\n",
      "Cycle 7900, Loss: 0.0049, Accuracy: 97.27%\n",
      "Cycle 8000, Loss: 0.0125, Accuracy: 92.19%\n",
      "Cycle 8100, Loss: 0.0107, Accuracy: 94.92%\n",
      "Cycle 8200, Loss: 0.0124, Accuracy: 92.97%\n",
      "Cycle 8300, Loss: 0.0150, Accuracy: 91.41%\n",
      "Cycle 8400, Loss: 0.0086, Accuracy: 94.92%\n",
      "Cycle 8500, Loss: 0.0101, Accuracy: 94.14%\n",
      "Cycle 8600, Loss: 0.0112, Accuracy: 93.75%\n",
      "Cycle 8700, Loss: 0.0114, Accuracy: 93.75%\n",
      "Cycle 8800, Loss: 0.0114, Accuracy: 92.97%\n",
      "Cycle 8900, Loss: 0.0093, Accuracy: 95.31%\n",
      "Cycle 9000, Loss: 0.0094, Accuracy: 94.92%\n",
      "Cycle 9100, Loss: 0.0194, Accuracy: 88.67%\n",
      "Cycle 9200, Loss: 0.0139, Accuracy: 92.97%\n",
      "Cycle 9300, Loss: 0.0085, Accuracy: 95.70%\n",
      "Cycle 9400, Loss: 0.0077, Accuracy: 94.92%\n",
      "Cycle 9500, Loss: 0.0121, Accuracy: 92.97%\n",
      "Cycle 9600, Loss: 0.0107, Accuracy: 93.75%\n",
      "Cycle 9700, Loss: 0.0089, Accuracy: 94.92%\n",
      "Cycle 9800, Loss: 0.0076, Accuracy: 95.70%\n",
      "Cycle 9900, Loss: 0.0091, Accuracy: 94.53%\n",
      "Prediction: 1, Confidence: 1.00\n"
     ]
    }
   ],
   "source": [
    "# Feel free to change this code\n",
    "\n",
    "# This is where we train our model\n",
    "\n",
    "# If the computer crashes, try making the batch size smaller: 256, 128, 64 or 32 will work well\n",
    "\n",
    "# If the model is already nearly perfect, we can change the number of cycles to something smaller\n",
    "\n",
    "model.train(train_x, train_y, cycles=10000, batch_size=256, learning_rate=5) \n",
    "\n",
    "prediction = model.predict(test_image_tensor) # This should be close to 1 if the model is working well\n",
    "print(f'Prediction: {prediction.argmax(dim=1).item()}, Confidence: {prediction.max().item():.2f}')"
   ]
  },
  {
   "cell_type": "markdown",
   "id": "53d51d49",
   "metadata": {},
   "source": [
    "**If the final accuracy above is less than 92% then you should run the training again**\n",
    "\n",
    "Now let's see what the AI model thinks our test number is...\n",
    "\n"
   ]
  },
  {
   "cell_type": "code",
   "execution_count": 112,
   "id": "35cf3e59",
   "metadata": {},
   "outputs": [
    {
     "name": "stdout",
     "output_type": "stream",
     "text": [
      "The model predicts that the number is: 1\n"
     ]
    },
    {
     "data": {
      "text/plain": [
       "<matplotlib.image.AxesImage at 0x707fe44d5e50>"
      ]
     },
     "execution_count": 112,
     "metadata": {},
     "output_type": "execute_result"
    },
    {
     "data": {
      "image/png": "[encoded data removed]",
      "text/plain": [
       "<Figure size 640x480 with 1 Axes>"
      ]
     },
     "metadata": {},
     "output_type": "display_data"
    }
   ],
   "source": [
    "# DO NOT CHANGE THIS CODE\n",
    "\n",
    "print(f'The model predicts that the number is: {model.predict(test_image_tensor).argmax(dim=1).item()}')\n",
    "plt.imshow(test_image, cmap='gray')"
   ]
  },
  {
   "cell_type": "markdown",
   "id": "8beeb9ee",
   "metadata": {},
   "source": [
    "**Draw a number yourself, take a photo and upload it. Use the below code to see what our trained AI model thinks the number is.**"
   ]
  },
  {
   "cell_type": "code",
   "execution_count": 150,
   "id": "6f551b8b",
   "metadata": {},
   "outputs": [],
   "source": [
    "# DO NOT CHANGE THIS CODE\n",
    "\n",
    "# This is some helper code to load your photo\n",
    "\n",
    "from PIL import Image\n",
    "import numpy as np\n",
    "import matplotlib.pyplot as plt\n",
    "\n",
    "def load_and_preprocess_np(image_path, crop_box=None):\n",
    "    \"\"\"\n",
    "    Load an image, optionally crop, resize to 28×28 grayscale,\n",
    "    normalize to [0,1], flatten to (784,), and display the image.\n",
    "    \"\"\"\n",
    "    # Load and optional crop\n",
    "    img = Image.open(image_path)\n",
    "    if crop_box:\n",
    "        img = img.crop(crop_box)\n",
    "    # Grayscale & resize\n",
    "    img = img.convert('L').resize((28,28), resample=Image.LANCZOS)\n",
    "    # Normalize to [0,1]\n",
    "    arr = np.array(img, dtype=np.float32) / 255.0  # shape (28,28)\n",
    "    arr = 1.0 - arr  # Invert the image (white becomes black and vice versa)\n",
    "\n",
    "    # Display the processed image\n",
    "    plt.figure(figsize=(3,3))\n",
    "    plt.imshow(arr, cmap='gray', vmin=0, vmax=1)\n",
    "    plt.title('Processed 28×28 Image')\n",
    "    plt.axis('off')\n",
    "    plt.show()\n",
    "\n",
    "    # Flatten to (784,)\n",
    "    flat = arr.ravel()\n",
    "    return flat\n",
    "\n"
   ]
  },
  {
   "cell_type": "code",
   "execution_count": null,
   "id": "0682a78d",
   "metadata": {},
   "outputs": [
    {
     "data": {
      "image/png": "[encoded data removed]",
      "text/plain": [
       "<Figure size 300x300 with 1 Axes>"
      ]
     },
     "metadata": {},
     "output_type": "display_data"
    },
    {
     "name": "stdout",
     "output_type": "stream",
     "text": [
      "The trained AI model predicts that the number is: 3, with confidence 1.00\n"
     ]
    }
   ],
   "source": [
    "# Change this code to open your own photo\n",
    "\n",
    "# Save your photo in the lesson_images folder and give it a name like \"my_number.jpg\"\n",
    "\n",
    "# Change phone_crop.jpg to the name of your photo\n",
    "\n",
    "flat_vector = load_and_preprocess_np('../data/lesson_images/phone_crop.jpg') \n",
    "\n",
    "print(f'The trained AI model predicts that the number is: {model.predict(tensor(flat_vector).view(-1, 28*28)).argmax(dim=1).item()}, \\\n",
    "with confidence {model.predict(tensor(flat_vector).view(-1, 28*28)).max().item():.2f}')"
   ]
  },
  {
   "cell_type": "markdown",
   "id": "fa1d62d5",
   "metadata": {},
   "source": [
    "## Neural Nets and Deep Learning"
   ]
  },
  {
   "cell_type": "markdown",
   "id": "9713bf98",
   "metadata": {},
   "source": [
    "The single layer perceptron we made above only has one layer of neurones. However, a real brain (and real **deep** learning models) use many many layers, with the axon terminals from one layer connecting to the dendrites of the next layer.\n",
    "\n",
    "<img alt=\"Single layer perceptron diagram\" width=\"500\" caption=\"Single layer perceptron\" src=\"../data/lesson_images/rosenblattPerceptron.png\" id=\"rosenblattPerceptron\"/>\n",
    "\n",
    "<img alt=\"Deep perceptron diagram\" width=\"500\" caption=\"Deep perceptron\" src=\"../data/lesson_images/deepPerceptron.png\" id=\"deepPerceptron\"/>"
   ]
  },
  {
   "cell_type": "markdown",
   "id": "742c90e7",
   "metadata": {},
   "source": [
    "## Convolutional Neural Networks (CNNs)"
   ]
  },
  {
   "cell_type": "markdown",
   "id": "06f8808e",
   "metadata": {},
   "source": [
    "If we plot our single layer perceptron weights as an image, we see they look a lot like the numbers we're trying to detect!"
   ]
  },
  {
   "cell_type": "code",
   "execution_count": 154,
   "id": "a787408f",
   "metadata": {},
   "outputs": [],
   "source": [
    "# DO NOT CHANGE THIS CODE\n",
    "\n",
    "# This is just a helper function to make our plot have higher contrast\n",
    "\n",
    "import numpy as np\n",
    "\n",
    "def increase_contrast(img: np.ndarray, low_percentile: float = 2, high_percentile: float = 98) -> np.ndarray:\n",
    "    \"\"\"\n",
    "    This is just a function to increase the contrast of a single-channel image\n",
    "    \"\"\"\n",
    "    # Compute percentile cutoffs\n",
    "    low, high = np.percentile(img, (low_percentile, high_percentile))\n",
    "    # Stretch and clip\n",
    "    stretched = (img - low) / (high - low)\n",
    "    stretched = np.clip(stretched, 0.0, 1.0)\n",
    "    return stretched\n",
    "\n",
    "# Example usage:\n",
    "# Assuming weight_imgs[0] is your (28,28) weight image:\n",
    "# enhanced_img = increase_contrast(weight_imgs[0], low_percentile=1, high_percentile=99)\n",
    "\n"
   ]
  },
  {
   "cell_type": "code",
   "execution_count": 162,
   "id": "ba0b81a8",
   "metadata": {},
   "outputs": [
    {
     "data": {
      "image/png": "[encoded data removed]",
      "text/plain": [
       "<Figure size 600x300 with 2 Axes>"
      ]
     },
     "metadata": {},
     "output_type": "display_data"
    }
   ],
   "source": [
    "# To visualize before/after:\n",
    "import matplotlib.pyplot as plt\n",
    "\n",
    "# 1) Grab the learned weights \n",
    "W = model.weights.detach().cpu().numpy()\n",
    "\n",
    "# 2) Turn each neuron’s weight‐vector into a 28×28 image\n",
    "weight_imgs = [W[:, i].reshape(28, 28) for i in range(W.shape[1])]\n",
    "original = weight_imgs[0] \n",
    "enhanced = increase_contrast(original, 20, 80)\n",
    "\n",
    "fig, (ax1, ax2) = plt.subplots(1, 2, figsize=(6, 3))\n",
    "ax1.imshow(original, cmap='gray')\n",
    "ax1.set_title('Original Weights for 0')\n",
    "ax1.axis('off')\n",
    "ax2.imshow(enhanced, cmap='gray')\n",
    "ax2.set_title('Extra Contrast Weights for 0')\n",
    "ax2.axis('off')\n",
    "plt.tight_layout()\n",
    "plt.show()"
   ]
  },
  {
   "cell_type": "markdown",
   "id": "40596471",
   "metadata": {},
   "source": [
    "**if you squint your eyes and look at the above plot of the AI model weights, it looks like a zero!**\n",
    "\n",
    "The fact that the dendrite sensitivity pattern looks like the number the neurone is trying to detect inspires us to build *Convolutional Neural Nets*"
   ]
  },
  {
   "cell_type": "markdown",
   "id": "012fa255",
   "metadata": {},
   "source": [
    "<img src=\"../data/lesson_images/chapter9_conv_basic.png\" id=\"basic_conv\" caption=\"Applying a kernel to one location\" alt=\"Applying a kernel to one location\" width=\"700\">"
   ]
  },
  {
   "cell_type": "markdown",
   "id": "66ce6fcf",
   "metadata": {},
   "source": [
    "<img alt=\"A 4×4 kernel with 5×5 input and 2 pixels of padding\" width=\"700\" caption=\"A 4×4 kernel with 5×5 input and 2 pixels of padding (courtesy of Vincent Dumoulin and Francesco Visin)\" id=\"four_by_five_conv\" src=\"../data/lesson_images/att_00029.png\">"
   ]
  },
  {
   "cell_type": "markdown",
   "id": "3da7fade",
   "metadata": {},
   "source": [
    "<img src=\"../data/lesson_images/convolutionExample.png\" id=\"convolutionExample\" caption=\"Applying a kernel to a whole image\" alt=\"Example of a convolution working\" width=\"700\">"
   ]
  },
  {
   "cell_type": "markdown",
   "id": "8d82fb72",
   "metadata": {},
   "source": [
    "<img src=\"../data/lesson_images/layer1.png\" alt=\"Activations of the first layer of a CNN\" width=\"300\" caption=\"Activations of the first layer of a CNN (courtesy of Matthew D. Zeiler and Rob Fergus)\" id=\"img_layer1\">\n"
   ]
  },
  {
   "cell_type": "markdown",
   "id": "d533663e",
   "metadata": {},
   "source": [
    "<img src=\"../data/lesson_images/layer2.png\" alt=\"Activations of the second layer of a CNN\" width=\"800\" caption=\"Activations of the second layer of a CNN (courtesy of Matthew D. Zeiler and Rob Fergus)\" id=\"img_layer2\">"
   ]
  },
  {
   "cell_type": "markdown",
   "id": "a486be74",
   "metadata": {},
   "source": [
    "<img src=\"../data/lesson_images/chapter2_layer3.PNG\" alt=\"Activations of the third layer of a CNN\" width=\"800\" caption=\"Activations of the third layer of a CNN (courtesy of Matthew D. Zeiler and Rob Fergus)\" id=\"img_layer3\">"
   ]
  },
  {
   "cell_type": "markdown",
   "id": "5c3c4882",
   "metadata": {},
   "source": [
    "<img src=\"../data/lesson_images/chapter2_layer4and5.PNG\" alt=\"Activations of layers 4 and 5 of a CNN\" width=\"800\" caption=\"Activations of layers 4 and 5 of a CNN (courtesy of Matthew D. Zeiler and Rob Fergus)\" id=\"img_layer4\">"
   ]
  }
 ],
 "metadata": {
  "kernelspec": {
   "display_name": ".venv",
   "language": "python",
   "name": "python3"
  },
  "language_info": {
   "codemirror_mode": {
    "name": "ipython",
    "version": 3
   },
   "file_extension": ".py",
   "mimetype": "text/x-python",
   "name": "python",
   "nbconvert_exporter": "python",
   "pygments_lexer": "ipython3",
   "version": "3.12.3"
  }
 },
 "nbformat": 4,
 "nbformat_minor": 5
}
