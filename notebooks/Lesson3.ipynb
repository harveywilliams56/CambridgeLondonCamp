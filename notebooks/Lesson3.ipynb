{
 "cells": [
  {
   "cell_type": "markdown",
   "id": "765a1d9e",
   "metadata": {},
   "source": [
    "## Transfer Learning\n",
    "\n",
    "Remeber how in lesson 2 we saw that Convolutional Neural Networks learn simple features in the first layer, and more complicated features in the later layers?\n",
    "\n",
    "<img src=\"../data/lesson_images/layer1.png\" alt=\"Activations of the first layer of a CNN\" width=\"300\" caption=\"Activations of the first layer of a CNN (courtesy of Matthew D. Zeiler and Rob Fergus)\" id=\"img_layer1\">\n",
    "\n",
    "\n",
    "<img src=\"../data/lesson_images/layer2.png\" alt=\"Activations of the second layer of a CNN\" width=\"800\" caption=\"Activations of the second layer of a CNN (courtesy of Matthew D. Zeiler and Rob Fergus)\" id=\"img_layer2\">\n",
    "\n",
    "<img src=\"../data/lesson_images/chapter2_layer3.PNG\" alt=\"Activations of the third layer of a CNN\" width=\"800\" caption=\"Activations of the third layer of a CNN (courtesy of Matthew D. Zeiler and Rob Fergus)\" id=\"img_layer3\">\n",
    "\n",
    "<img src=\"../data/lesson_images/chapter2_layer4and5.PNG\" alt=\"Activations of layers 4 and 5 of a CNN\" width=\"800\" caption=\"Activations of layers 4 and 5 of a CNN (courtesy of Matthew D. Zeiler and Rob Fergus)\" id=\"img_layer4\">"
   ]
  },
  {
   "cell_type": "markdown",
   "id": "3d3a95da",
   "metadata": {},
   "source": [
    "The idea of **transfer learning** is that we take the first and middle layers from a CNN that has *already been trained*. This is because they are able to recognise generally useful features such as circles and faces. \n",
    "\n",
    "We then add fresh last layers - the **head** - and train them to recognise the particular objects we want to recognise."
   ]
  },
  {
   "cell_type": "code",
   "execution_count": null,
   "id": "6b7102b6",
   "metadata": {},
   "outputs": [],
   "source": [
    "# DO NOT CHANGE THIS CODE\n",
    "\n",
    "import fastbook\n",
    "fastbook.setup_book()\n",
    "\n",
    "from icrawler.builtin import BingImageCrawler\n",
    "from pathlib import Path"
   ]
  },
  {
   "cell_type": "code",
   "execution_count": null,
   "id": "05cd8fc2",
   "metadata": {},
   "outputs": [],
   "source": [
    "# DO NOT CHANGE THIS CODE\n",
    "\n",
    "from fastbook import *\n",
    "from fastai.vision.widgets import *"
   ]
  },
  {
   "cell_type": "code",
   "execution_count": null,
   "id": "4412f2ee",
   "metadata": {},
   "outputs": [],
   "source": [
    "# Feel free to change these categories to something you want to teach your model\n",
    "# ..eg dogs vs cats\n",
    "# ..or cats vs bats \n",
    "\n",
    "# The word on the left is the name of the category\n",
    "# The sentence on the right is a search term that will find images of that category on the internet\n",
    "\n",
    "categories = {\n",
    "    'oyster':             'oyster mushroom pleurotus ostreatus',\n",
    "    'death_cap':          'death cap mushroom amanita phalloides',\n",
    "}"
   ]
  },
  {
   "cell_type": "code",
   "execution_count": null,
   "id": "9034f83b",
   "metadata": {},
   "outputs": [],
   "source": [
    "# DO NOT CHANGE THIS CODE\n",
    "\n",
    "# Here we download images of the above categories from the internet to use as training data\n",
    "\n",
    "training_images_folder = 'training_images'\n",
    "\n",
    "for cls, term in categories.items():\n",
    "    dest = Path(training_images_folder)/cls\n",
    "    dest.mkdir(parents=True, exist_ok=True)\n",
    "    crawler = BingImageCrawler(storage={'root_dir': str(dest)})\n",
    "    crawler.crawl(keyword=term, max_num=10, min_size=(200,200), overwrite=True)\n"
   ]
  },
  {
   "cell_type": "code",
   "execution_count": null,
   "id": "ecbde9cb",
   "metadata": {},
   "outputs": [],
   "source": [
    "# DO NOT CHANGE THIS CODE\n",
    "\n",
    "# Here we remove any images that failed to download correctly\n",
    "\n",
    "failed = verify_images(get_image_files(training_images_folder))\n",
    "failed.map(Path.unlink)  # delete any that failed to open"
   ]
  },
  {
   "cell_type": "code",
   "execution_count": null,
   "id": "f26f7eb1",
   "metadata": {},
   "outputs": [],
   "source": [
    "# DO NOT CHANGE THIS CODE\n",
    "\n",
    "training_image_filenames = get_image_files(training_images_folder)"
   ]
  },
  {
   "cell_type": "code",
   "execution_count": null,
   "id": "afaaaf38",
   "metadata": {},
   "outputs": [],
   "source": [
    "# DO NOT CHANGE THIS CODE\n",
    "\n",
    "# Let's look at one of the images we downloaded\n",
    "\n",
    "im = Image.open(training_image_filenames[0])\n",
    "im.to_thumb(64,64)"
   ]
  },
  {
   "cell_type": "code",
   "execution_count": null,
   "id": "f8d75b83",
   "metadata": {},
   "outputs": [],
   "source": [
    "# DO NOT CHANGE THIS CODE\n",
    "\n",
    "# These are NOT AI preditions\n",
    "# Instead, these are some of the images we downloaded, along with their category names\n",
    "# You should check that the images are correct for the category names as this is our training data\n",
    "\n",
    "path = Path(training_images_folder)\n",
    "dblock = DataBlock(\n",
    "    blocks=(ImageBlock, CategoryBlock),\n",
    "    get_items=get_image_files,\n",
    "    splitter=RandomSplitter(0.2, seed=42),\n",
    "    get_y=parent_label,\n",
    "    item_tfms=Resize(224)\n",
    ")\n",
    "\n",
    "dls = dblock.dataloaders(path, bs=16)\n",
    "dls.show_batch(max_n=9)\n"
   ]
  },
  {
   "cell_type": "code",
   "execution_count": null,
   "id": "99725e40",
   "metadata": {},
   "outputs": [],
   "source": [
    "# DO NOT CHANGE THIS CODE\n",
    "\n",
    "# Here we copy an existing trained model (resnet34) and train the head of the model to recognize our categories\n",
    "\n",
    "learn = vision_learner(dls, resnet18, metrics=error_rate).to_fp16()\n",
    "learn.fine_tune(3)"
   ]
  },
  {
   "cell_type": "code",
   "execution_count": null,
   "id": "9a2077e1",
   "metadata": {},
   "outputs": [],
   "source": [
    "# Feel free to change this code\n",
    "\n",
    "# Change the URL to an image on the internet you want to test \n",
    "# The image should be of one of the categories you trained your model on\n",
    "\n",
    "# 1) Make a test folder\n",
    "test_path = Path('test_images')\n",
    "test_path.mkdir(exist_ok=True)\n",
    "\n",
    "# 2) Download your image\n",
    "url = 'https://live.staticflickr.com/2927/14293282232_03499896bb.jpg'  # ← replace with your URL\n",
    "save_filename = 'testOysterMushroom'                       # derive a filename\n",
    "save_path = test_path/save_filename\n",
    "\n",
    "headers = {\n",
    "    'User-Agent': 'Mozilla/5.0 (Windows NT 10.0; Win64; x64)',\n",
    "    'Referer': 'https://www.flickr.com/'\n",
    "}\n",
    "\n",
    "resp = requests.get(url, headers=headers)\n",
    "resp.raise_for_status()  # will crash if download failed\n",
    "with open(save_path,'wb') as f:\n",
    "    f.write(resp.content)\n",
    "\n",
    "\n",
    "image_path = test_path/save_filename  \n",
    "\n",
    "plt.imshow(PILImage.create(image_path))\n",
    "plt.axis('off')\n",
    "plt.title('Test Image of an Oyster Mushroom')\n",
    "plt.show()\n"
   ]
  },
  {
   "cell_type": "code",
   "execution_count": null,
   "id": "f9f5a3d1",
   "metadata": {},
   "outputs": [],
   "source": [
    "# Feel free to change this code\n",
    "\n",
    "# Here we predict the category of the image we downloaded\n",
    "\n",
    "# If you want to upload your own image, save it in the test_images folder as \"my_image.jpg\" \n",
    "# .. and uncomment the line below: image_path = test_path/'my_image.jpg'\n",
    "\n",
    "# image_path = test_path/'my_image.jpg'  \n",
    "\n",
    "\n",
    "image = PILImage.create(image_path) # open the image we downloaded\n",
    "pred_class, pred_idx, probs = learn.predict(image)\n",
    "\n",
    "\n",
    "fig, axes = plt.subplots(1, 2, figsize=(10, 5))\n",
    "\n",
    "# Left: show the image with its predicted label\n",
    "axes[0].imshow(image)\n",
    "axes[0].axis('off')\n",
    "axes[0].set_title(f'Predicted: {pred_class}\\nConfidence: {probs[pred_idx]:.0%}')\n",
    "\n",
    "# Right: bar-chart of all class probabilities\n",
    "classes = learn.dls.vocab\n",
    "axes[1].barh(classes, probs)\n",
    "axes[1].invert_yaxis()                # highest probability at top\n",
    "axes[1].set_xlabel('Probability')\n",
    "axes[1].set_title('Class Probabilities')\n",
    "\n",
    "plt.tight_layout()\n",
    "plt.show()\n",
    "\n"
   ]
  }
 ],
 "metadata": {
  "kernelspec": {
   "display_name": ".venv",
   "language": "python",
   "name": "python3"
  },
  "language_info": {
   "codemirror_mode": {
    "name": "ipython",
    "version": 3
   },
   "file_extension": ".py",
   "mimetype": "text/x-python",
   "name": "python",
   "nbconvert_exporter": "python",
   "pygments_lexer": "ipython3",
   "version": "3.12.3"
  }
 },
 "nbformat": 4,
 "nbformat_minor": 5
}
