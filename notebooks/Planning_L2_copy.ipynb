{
 "cells": [
  {
   "cell_type": "markdown",
   "id": "bf0769cd",
   "metadata": {},
   "source": [
    "## Generic AI"
   ]
  },
  {
   "cell_type": "code",
   "execution_count": 2,
   "id": "b86c6af2",
   "metadata": {},
   "outputs": [
    {
     "name": "stdout",
     "output_type": "stream",
     "text": [
      "Generated ML_Schematic.png\n"
     ]
    }
   ],
   "source": [
    "from graphviz import Source\n",
    "\n",
    "# 1) Your DOT definition\n",
    "dot_source = \"\"\"\n",
    "\n",
    "digraph ML_Schematic {\n",
    "  rankdir=LR;\n",
    "  node [fontname=\"Arial\"];\n",
    "\n",
    "  input   [shape=circle,   label=\"Input\"];\n",
    "  model    [shape=box3d,   label=<<B>MODEL</B> { Parameter 1 | Parameter 2 | ... | Parameter 1000}>, style=filled, fillcolor=\"#AED6F1\"];\n",
    "  output   [shape=circle,   label=\"AI\\nOutput\"];\n",
    "\n",
    "  input -> model;\n",
    "  model  -> output;\n",
    "}\n",
    "\"\"\"\n",
    "\n",
    "# 2) Create a Source object\n",
    "src = Source(dot_source)\n",
    "\n",
    "# 3) Render to PNG\n",
    "#    This will create 'ML_Schematic.png' in your cwd\n",
    "src.render(filename='ML_Schematic', format='png', cleanup=True)\n",
    "\n",
    "print(\"Generated ML_Schematic.png\")"
   ]
  },
  {
   "cell_type": "code",
   "execution_count": 3,
   "id": "b8a6b4b2",
   "metadata": {},
   "outputs": [
    {
     "name": "stdout",
     "output_type": "stream",
     "text": [
      "Generated ML_Training_Schematic.png\n"
     ]
    }
   ],
   "source": [
    "from graphviz import Source\n",
    "\n",
    "# 1) Your DOT definition\n",
    "dot_source = \"\"\"digraph ML_Schematic {\n",
    "  rankdir=TB;\n",
    "  node [fontname=\"Arial\"];\n",
    "\n",
    "  // Top row\n",
    "  { rank=same; input; model; output; }\n",
    "\n",
    "  // Bottom row (in left-to-right order: update under model, then target under output)\n",
    "  { rank=same; update; target; }\n",
    "  { rank = max; target}\n",
    "\n",
    "  // Nodes\n",
    "  input   [shape=circle, label=\"Training\\nData X\"];\n",
    "  model   [shape=box3d,\n",
    "           label=<<B>MODEL</B> { Parameter 1 | Parameter 2 | … | Parameter 1000 }>,\n",
    "           style=filled, fillcolor=\"#AED6F1\"];\n",
    "  output  [shape=circle, label=\"AI\\nOutput\"];\n",
    "  update  [shape=box,    label=\"Update\\nParameters\", style=dashed];\n",
    "  target  [shape=circle, label=\"Training\\nData Y\"];\n",
    "  error   [shape=diamond,label=\"Loss\\n(Target−Output)\", style=filled, fillcolor=\"#FAD7A0\"];\n",
    "\n",
    "\n",
    "  // Invisible edges to lock columns\n",
    "  update  -> model  [style=invis];\n",
    "  // output -> target  [style=invis];\n",
    "  // target -> output [style=invis];\n",
    "\n",
    "  // Real data flow\n",
    "  input  -> model -> output;\n",
    "  output -> error;\n",
    "  target -> error;\n",
    "  error  -> update -> model;\n",
    "}\n",
    "\"\"\"\n",
    "\n",
    "# 2) Create a Source object\n",
    "src = Source(dot_source)\n",
    "\n",
    "# 3) Render to PNG\n",
    "#    This will create 'ML_Schematic.png' in your cwd\n",
    "src.render(filename='ML_Training_Schematic', format='png', cleanup=True)\n",
    "\n",
    "print(\"Generated ML_Training_Schematic.png\")"
   ]
  },
  {
   "cell_type": "markdown",
   "id": "90ac0692",
   "metadata": {},
   "source": [
    "**I should discuss the specific Loss function used in the previous class and point out the two parameters in our previous model**"
   ]
  },
  {
   "cell_type": "markdown",
   "id": "82e277b1",
   "metadata": {},
   "source": [
    "## Perceptron Version One"
   ]
  },
  {
   "cell_type": "markdown",
   "id": "846ffb19",
   "metadata": {},
   "source": [
    "<img alt=\"Natural and artificial neurons\" width=\"500\" caption=\"Natural and artificial neurons\" src=\"lesson_images/chapter7_neuron.png\" id=\"neuron\"/>"
   ]
  },
  {
   "cell_type": "markdown",
   "id": "495884d4",
   "metadata": {},
   "source": [
    "Inspired by real neurones - multiple incoming signals arrive at different dendrites, with different sensitivity (**weight**). If they add together in the right combination, the neurone fires.\n",
    "\n",
    "Let's build a simple neural net - the Rosenblatt perceptron - to read handwritten numbers. It will have 10 neurones, one for each number from 0...9 that we want to detect. The right neurone should turn on for the right number. \n",
    "\n",
    "Our Perceptron will \"see\" images of numbers (from the MNIST public training set) which are 28x28 = 784 pixels. So each neurone will have 784 dendrites - one for each pixel in the image - and each dendrite will have its own sensitivity to each pixel, called the **weight**. \n",
    "\n",
    "Each neurone will also have a total sensitivity which decides how easily it is turned on by the pixels. This is called the **bias** (which has more than one meaning in AI - ask me about it!).\n",
    "\n",
    "In total our Perceptron model will have 784x10 = 7840 **weights** and 1x10 = 10 **biases**. So it has 7850 total parameters it must learn.\n",
    "\n",
    "Today we will only make our perceptron learn how to recognise two numbers - 3 and 7 - using two neurones. This means our model only needs 784x2 = 1568 weights and 1x2 = 2 biases for a total of 1570 parameters. This will be approximately 5 times faster to train than learning all 10 numbers."
   ]
  },
  {
   "cell_type": "code",
   "execution_count": 4,
   "id": "ffaaeb56",
   "metadata": {},
   "outputs": [],
   "source": [
    "#hide\n",
    "! [ -e /content ] && pip install -Uqq fastbook\n",
    "import fastbook\n",
    "fastbook.setup_book()"
   ]
  },
  {
   "cell_type": "code",
   "execution_count": 5,
   "id": "a4d37096",
   "metadata": {},
   "outputs": [],
   "source": [
    "#hide\n",
    "from fastai.vision.all import *\n",
    "from fastbook import *\n",
    "\n",
    "matplotlib.rc('image', cmap='Greys')"
   ]
  },
  {
   "cell_type": "code",
   "execution_count": 6,
   "id": "5b09a8ef",
   "metadata": {},
   "outputs": [],
   "source": [
    "path = untar_data(URLs.MNIST) # Download the MNIST training images"
   ]
  },
  {
   "cell_type": "code",
   "execution_count": 7,
   "id": "6a08a7cb",
   "metadata": {},
   "outputs": [
    {
     "data": {
      "text/plain": [
       "Path('/home/harvey/.fastai/data/mnist_png')"
      ]
     },
     "execution_count": 7,
     "metadata": {},
     "output_type": "execute_result"
    }
   ],
   "source": [
    "path"
   ]
  },
  {
   "cell_type": "code",
   "execution_count": 8,
   "id": "ac7e3322",
   "metadata": {},
   "outputs": [
    {
     "data": {
      "text/plain": [
       "(#10) [Path('/home/harvey/.fastai/data/mnist_png/training/3'),Path('/home/harvey/.fastai/data/mnist_png/training/9'),Path('/home/harvey/.fastai/data/mnist_png/training/1'),Path('/home/harvey/.fastai/data/mnist_png/training/7'),Path('/home/harvey/.fastai/data/mnist_png/training/8'),Path('/home/harvey/.fastai/data/mnist_png/training/2'),Path('/home/harvey/.fastai/data/mnist_png/training/6'),Path('/home/harvey/.fastai/data/mnist_png/training/0'),Path('/home/harvey/.fastai/data/mnist_png/training/5'),Path('/home/harvey/.fastai/data/mnist_png/training/4')]"
      ]
     },
     "execution_count": 8,
     "metadata": {},
     "output_type": "execute_result"
    }
   ],
   "source": [
    "(path/'training').ls() # Path to the training images"
   ]
  },
  {
   "cell_type": "code",
   "execution_count": 9,
   "id": "b4463f94",
   "metadata": {},
   "outputs": [],
   "source": [
    "# Path.BASE_PATH = path # DON'T DO THIS BECAUSE IT WILL MESS UP MY NOTEBOOK"
   ]
  },
  {
   "cell_type": "code",
   "execution_count": 10,
   "id": "2e1afbff",
   "metadata": {},
   "outputs": [
    {
     "data": {
      "text/plain": [
       "<Axes: >"
      ]
     },
     "execution_count": 10,
     "metadata": {},
     "output_type": "execute_result"
    },
    {
     "data": {
      "image/png": "[encoded data removed]",
      "text/plain": [
       "<Figure size 300x300 with 1 Axes>"
      ]
     },
     "metadata": {},
     "output_type": "display_data"
    }
   ],
   "source": [
    "example_image_path = (path/'training'/'3').ls()[88]\n",
    "example_image = PILImage.create(example_image_path)\n",
    "example_image.show(figsize=(3,3))"
   ]
  },
  {
   "cell_type": "code",
   "execution_count": 11,
   "id": "523b49ba",
   "metadata": {},
   "outputs": [
    {
     "data": {
      "text/plain": [
       "(torch.Size([6265, 28, 28]), torch.Size([6131, 28, 28]))"
      ]
     },
     "execution_count": 11,
     "metadata": {},
     "output_type": "execute_result"
    }
   ],
   "source": [
    "# DO NOT CHANGE THIS CODE\n",
    "# This code opens up all of our images and puts them into two big lists\n",
    "# We use a library called 'torch' becuase it does it in a way that allows\n",
    "# ..the computer to make very fast calculations\n",
    "\n",
    "# get stacked tensors for each number from 0 to 9\n",
    "\n",
    "stacked_zeros = torch.stack([tensor(Image.open(o)) for o in (path/'training'/'0').ls()]).float()/255 # Brightness is between 0 and 255 but we want it between 0 and 1\n",
    "stacked_ones = torch.stack([tensor(Image.open(o)) for o in (path/'training'/'1').ls()]).float()/255 \n",
    "stacked_twos = torch.stack([tensor(Image.open(o)) for o in (path/'training'/'2').ls()]).float()/255 \n",
    "stacked_threes = torch.stack([tensor(Image.open(o)) for o in (path/'training'/'3').ls()]).float()/255 \n",
    "stacked_fours = torch.stack([tensor(Image.open(o)) for o in (path/'training'/'4').ls()]).float()/255 \n",
    "stacked_fives = torch.stack([tensor(Image.open(o)) for o in (path/'training'/'5').ls()]).float()/255 \n",
    "stacked_sixes = torch.stack([tensor(Image.open(o)) for o in (path/'training'/'6').ls()]).float()/255 \n",
    "stacked_sevens = torch.stack([tensor(Image.open(o)) for o in (path/'training'/'7').ls()]).float()/255 \n",
    "stacked_eights = torch.stack([tensor(Image.open(o)) for o in (path/'training'/'8').ls()]).float()/255 \n",
    "stacked_nines = torch.stack([tensor(Image.open(o)) for o in (path/'training'/'9').ls()]).float()/255 \n",
    "\n",
    "\n",
    "\n",
    "# stacked_sevens = torch.stack([tensor(Image.open(o)) for o in (path/'train'/'7').ls()]).float()/255 # Brightness is between 0 and 255 but we want it between 0 and 1\n",
    "# stacked_threes = torch.stack([tensor(Image.open(o)) for o in (path/'train'/'3').ls()]).float()/255 # Brightness is between 0 and 255 but we want it between 0 and 1\n",
    "\n",
    "stacked_sevens.shape, stacked_threes.shape\n",
    "# Our lists have around 6000 images, each of which is 28x28 pixels"
   ]
  },
  {
   "cell_type": "code",
   "execution_count": 12,
   "id": "6bf8a3f9",
   "metadata": {},
   "outputs": [
    {
     "data": {
      "text/plain": [
       "torch.Size([60000, 784])"
      ]
     },
     "execution_count": 12,
     "metadata": {},
     "output_type": "execute_result"
    }
   ],
   "source": [
    "# DO NOT CHANGE THIS CODE\n",
    "# Here we combine our two lists into one big list\n",
    "# We also take each 28x28 square image and turn it into a long list of 784 pixels\n",
    "\n",
    "# train_x = torch.cat([stacked_threes, stacked_sevens]).view(-1, 28*28)\n",
    "\n",
    "train_x = torch.cat([stacked_zeros, stacked_ones, stacked_twos, stacked_threes, stacked_fours, stacked_fives, stacked_sixes, stacked_sevens, stacked_eights, stacked_nines]).view(-1, 28*28)\n",
    "train_x.shape\n",
    "\n",
    "# Our list shape is approximately (12000, 784) - 12000 lots of lists of 784 pixels"
   ]
  },
  {
   "cell_type": "code",
   "execution_count": 13,
   "id": "de2dc2d0",
   "metadata": {},
   "outputs": [
    {
     "data": {
      "text/plain": [
       "(torch.Size([60000, 10]), tensor([0., 1., 0., 0., 0., 0., 0., 0., 0., 0.]))"
      ]
     },
     "execution_count": 13,
     "metadata": {},
     "output_type": "execute_result"
    }
   ],
   "source": [
    "# DO NOT CHANGE THIS CODE\n",
    "# Here we create the training output - our model should output [1,0] when it sees a 3 and [0,1] when it sees a 7\n",
    "# ..this corresponds to the three-neurone turning on for a 3 and the seven-neurone turning on for a 7\n",
    "# ..in our training data, we will use [0.9, 0.1] for a 3 and [0.1, 0.9] for a 7 because it is difficult to get the model to output exactly 0 or 1\n",
    "\n",
    "train_y = tensor([[1.0,0.0]]*len(stacked_threes) + [[0.0, 1.0]]*len(stacked_sevens))\n",
    "\n",
    "train_y = torch.cat([torch.tensor([[1.0, 0.0, 0.0, 0.0, 0.0, 0.0, 0.0, 0.0, 0.0, 0.0]])]*len(stacked_zeros) +\n",
    "                    [torch.tensor([[0.0, 1.0, 0.0, 0.0, 0.0, 0.0, 0.0, 0.0, 0.0, 0.0]])]*len(stacked_ones) +\n",
    "                    [torch.tensor([[0.0, 0.0, 1.0, 0.0, 0.0, 0.0, 0.0, 0.0, 0.0, 0.0]])]*len(stacked_twos) +\n",
    "                    [torch.tensor([[0.0, 0.0, 0.0, 1.0, 0.0, 0.0, 0.0, 0.0, 0.0, 0.0]])]*len(stacked_threes) +\n",
    "                    [torch.tensor([[0.0, 0.0, 0.0, 0.0, 1.0, 0.0, 0.0, 0.0, 0.0, 0.0]])]*len(stacked_fours) +\n",
    "                    [torch.tensor([[0.0, 0.0, 0.0, 0.0, 0.0, 1.0, 0.0, 0.0, 0.0, 0.0]])]*len(stacked_fives) +\n",
    "                    [torch.tensor([[0.0, 0.0, 0.0, 0.0, 0.0, 0.0, 1.0, 0.0, 0.0, 0.0]])]*len(stacked_sixes) +\n",
    "                    [torch.tensor([[0.0, 0.0, 0.0, 0.0, 0.0, 0.0, 0.0, 1.0, 0.0, 0.0]])]*len(stacked_sevens) +\n",
    "                    [torch.tensor([[0.0, 0.0, 0.0, 0.0, 0.0, 0.0, 0.0, 0.0, 1.0, 0.0]])]*len(stacked_eights) +\n",
    "                    [torch.tensor([[0.0, 0.0, 0.0, 0.0, 0.0, 0.0, 0.0, 0.0, 0.0, 1.0]])]*len(stacked_nines))\n",
    "train_y.shape, train_y[8000]\n",
    "# our list shape is approximately (12000, 2) - 12000 lots of lists of 2 numbers"
   ]
  },
  {
   "cell_type": "code",
   "execution_count": 14,
   "id": "6ac94eb4",
   "metadata": {},
   "outputs": [
    {
     "data": {
      "text/plain": [
       "(torch.Size([12665, 784]), torch.Size([12665, 2]))"
      ]
     },
     "execution_count": 14,
     "metadata": {},
     "output_type": "execute_result"
    }
   ],
   "source": [
    "# do the same as above but only with 0 and 1 so that training is faster\n",
    "train_x = torch.cat([stacked_zeros, stacked_ones]).view(-1, 28*28)\n",
    "train_y = torch.cat([torch.tensor([[1.0, 0.0]])]*len(stacked_zeros) + [torch.tensor([[0.0, 1.0]])]*len(stacked_ones))\n",
    "train_x.shape, train_y.shape"
   ]
  },
  {
   "cell_type": "markdown",
   "id": "9f15596c",
   "metadata": {},
   "source": [
    "#"
   ]
  },
  {
   "cell_type": "code",
   "execution_count": 15,
   "id": "c336baae",
   "metadata": {},
   "outputs": [],
   "source": [
    "class OneLayerPerceptron():\n",
    "\n",
    "    def __init__(self, std=1.0, number_of_neurones=2):\n",
    "        self.weights = (torch.randn(28*28, number_of_neurones)*std).requires_grad_() # This \n",
    "        self.biases = (torch.randn(number_of_neurones)*std).requires_grad_() # This is the bias for the neurone\n",
    "        self.learning_rate = 0.01 # This is the learning rate, which controls how much we change the weights and biases each time we train\n",
    "    def predict(self, x):\n",
    "        # return F.softmax(((x @ self.weights) + self.biases).sigmoid(), dim=1)\n",
    "        return F.softmax((x @ self.weights) + self.biases, dim=1) # This is the output of our model \n",
    "\n",
    "\n",
    "    def loss(self, input, training_output):\n",
    "        return F.mse_loss(self.predict(input), training_output)\n",
    "    \n",
    "    def train_one_step(self, input_batch, training_output_batch):\n",
    "\n",
    "        x = input_batch\n",
    "        y = training_output_batch\n",
    "\n",
    "        loss = self.loss(x, y)\n",
    "        loss.backward() # This calculates the gradients for our weights and biases\n",
    "        with torch.no_grad(): # This means we are not calculating gradients for the next step\n",
    "            self.weights -= self.weights.grad * self.learning_rate # This is the learning rate\n",
    "            self.biases -= self.biases.grad * self.learning_rate\n",
    "        self.weights.grad.zero_()\n",
    "        self.biases.grad.zero_()\n",
    "        return loss.item()\n",
    "    \n",
    "    def get_batch(self, input, training_output, batch_size=64):\n",
    "        idxs = torch.randint(0, len(input), (batch_size,))\n",
    "        # print(f\"Batch indices: {idxs}\")  # Debugging line to check indices\n",
    "        return input[idxs], training_output[idxs]\n",
    "    \n",
    "    def train(self, input, training_data, cycles, batch_size=64, learning_rate=0.01):\n",
    "        self.learning_rate = learning_rate\n",
    "        for i in range(cycles):\n",
    "            input_batch, training_output_batch = self.get_batch(input, training_data, batch_size)\n",
    "            loss = self.train_one_step(input_batch, training_output_batch)\n",
    "            correct_percentage = (self.predict(input_batch).argmax(dim=1) == training_output_batch.argmax(dim=1)).float().mean().item()\n",
    "            if i % 100 == 0:\n",
    "                print(f\"Cycle {i}, Loss: {loss:.4f}, Accuracy: {correct_percentage:.2%}\")\n",
    "\n",
    "        return loss"
   ]
  },
  {
   "cell_type": "code",
   "execution_count": 16,
   "id": "d4611d59",
   "metadata": {},
   "outputs": [],
   "source": [
    "import torch\n",
    "import matplotlib.pyplot as plt\n",
    "\n",
    "def lr_finder(model, train_x, train_y, start_lr=1e-6, end_lr=1, num_iter=100, batch_size=512):\n",
    "    \"\"\"\n",
    "    Performs a simple LR range test: increases LR exponentially from start_lr to end_lr over num_iter steps,\n",
    "    records loss, and plots loss vs. LR on a log scale. Restores model parameters afterward.\n",
    "    \"\"\"\n",
    "    # Backup original parameters\n",
    "    w0 = model.weights.clone().detach()\n",
    "    b0 = model.biases.clone().detach()\n",
    "    \n",
    "    # Compute the multiplicative factor per step\n",
    "    mult = (end_lr / start_lr) ** (1 / num_iter)\n",
    "    lr = start_lr\n",
    "    \n",
    "    lrs, losses = [], []\n",
    "    for _ in range(num_iter):\n",
    "        # Get a random batch\n",
    "        xb, yb = model.get_batch(train_x, train_y, batch_size)\n",
    "        \n",
    "        # Zero gradients\n",
    "        if model.weights.grad is not None: model.weights.grad.zero_()\n",
    "        if model.biases.grad is not None:  model.biases.grad.zero_()\n",
    "        \n",
    "        # Compute loss and gradients\n",
    "        loss = model.loss(xb, yb)\n",
    "        loss.backward()\n",
    "        \n",
    "        # Take an optimization step with the current LR\n",
    "        with torch.no_grad():\n",
    "            model.weights -= model.weights.grad * lr\n",
    "            model.biases  -= model.biases.grad  * lr\n",
    "        \n",
    "        # Record\n",
    "        lrs.append(lr)\n",
    "        losses.append(loss.item())\n",
    "        \n",
    "        # Increase LR\n",
    "        lr *= mult\n",
    "    \n",
    "    # Restore original parameters\n",
    "    with torch.no_grad():\n",
    "        model.weights.copy_(w0)\n",
    "        model.biases.copy_(b0)\n",
    "    \n",
    "    # Plot\n",
    "    plt.plot(lrs, losses)\n",
    "    plt.xscale('log')\n",
    "    plt.xlabel('Learning Rate')\n",
    "    plt.ylabel('Loss')\n",
    "    plt.title('Learning Rate Range Test')\n",
    "    plt.show()\n",
    "    \n",
    "    return lrs, losses\n",
    "\n",
    "# Example call:\n",
    "# lrs, losses = lr_finder(model, train_x, train_y, start_lr=1e-6, end_lr=1, num_iter=100, batch_size=512)\n"
   ]
  },
  {
   "cell_type": "code",
   "execution_count": 17,
   "id": "e3ae84ab",
   "metadata": {},
   "outputs": [],
   "source": [
    "model = OneLayerPerceptron(number_of_neurones=2) # Create a model with 784 inputs and 2 outputs (for the two neurones)"
   ]
  },
  {
   "cell_type": "code",
   "execution_count": 18,
   "id": "89fa9b40",
   "metadata": {},
   "outputs": [
    {
     "data": {
      "image/jpeg": "[encoded data removed]",
      "image/png": "[encoded data removed]",
      "text/plain": [
       "<PIL.PngImagePlugin.PngImageFile image mode=L size=28x28>"
      ]
     },
     "execution_count": 18,
     "metadata": {},
     "output_type": "execute_result"
    }
   ],
   "source": [
    "test_image = Image.open(example_image_path)\n",
    "test_image_tensor = tensor(test_image).view(-1, 28*28).float()/255\n",
    "test_image"
   ]
  },
  {
   "cell_type": "code",
   "execution_count": 19,
   "id": "649611a6",
   "metadata": {},
   "outputs": [
    {
     "name": "stdout",
     "output_type": "stream",
     "text": [
      "Prediction: 0, Confidence: 1.00\n"
     ]
    }
   ],
   "source": [
    "# use argmax to get the index of the maximum value in the output\n",
    "prediction = model.predict(test_image_tensor) # This should be close to 1 if the model is working well\n",
    "print(f'Prediction: {prediction.argmax(dim=1).item()}, Confidence: {prediction.max().item():.2f}')"
   ]
  },
  {
   "cell_type": "code",
   "execution_count": 36,
   "id": "d47f7667",
   "metadata": {},
   "outputs": [
    {
     "data": {
      "image/png": "[encoded data removed]",
      "text/plain": [
       "<Figure size 640x480 with 1 Axes>"
      ]
     },
     "metadata": {},
     "output_type": "display_data"
    }
   ],
   "source": [
    "lrs, losses = lr_finder(model, train_x, train_y, start_lr=1e-20, end_lr=1, num_iter=10000, batch_size=128)\n"
   ]
  },
  {
   "cell_type": "code",
   "execution_count": 21,
   "id": "cef52484",
   "metadata": {},
   "outputs": [
    {
     "name": "stdout",
     "output_type": "stream",
     "text": [
      "Cycle 0, Loss: 0.6305, Accuracy: 79.10%\n",
      "Cycle 100, Loss: 0.0039, Accuracy: 99.61%\n",
      "Cycle 200, Loss: 0.0036, Accuracy: 99.61%\n",
      "Cycle 300, Loss: 0.0024, Accuracy: 99.80%\n",
      "Cycle 400, Loss: 0.0021, Accuracy: 99.80%\n",
      "Cycle 500, Loss: 0.0001, Accuracy: 100.00%\n",
      "Cycle 600, Loss: 0.0076, Accuracy: 99.22%\n",
      "Cycle 700, Loss: 0.0017, Accuracy: 99.80%\n",
      "Cycle 800, Loss: 0.0020, Accuracy: 99.80%\n",
      "Cycle 900, Loss: 0.0020, Accuracy: 99.80%\n",
      "Cycle 1000, Loss: 0.0001, Accuracy: 100.00%\n",
      "Cycle 1100, Loss: 0.0000, Accuracy: 100.00%\n",
      "Cycle 1200, Loss: 0.0000, Accuracy: 100.00%\n",
      "Cycle 1300, Loss: 0.0020, Accuracy: 99.80%\n",
      "Cycle 1400, Loss: 0.0000, Accuracy: 100.00%\n",
      "Cycle 1500, Loss: 0.0001, Accuracy: 100.00%\n",
      "Cycle 1600, Loss: 0.0020, Accuracy: 99.80%\n",
      "Cycle 1700, Loss: 0.0020, Accuracy: 99.80%\n",
      "Cycle 1800, Loss: 0.0020, Accuracy: 99.80%\n",
      "Cycle 1900, Loss: 0.0000, Accuracy: 100.00%\n",
      "Cycle 2000, Loss: 0.0020, Accuracy: 99.80%\n",
      "Cycle 2100, Loss: 0.0000, Accuracy: 100.00%\n",
      "Cycle 2200, Loss: 0.0000, Accuracy: 100.00%\n",
      "Cycle 2300, Loss: 0.0000, Accuracy: 100.00%\n",
      "Cycle 2400, Loss: 0.0000, Accuracy: 100.00%\n",
      "Cycle 2500, Loss: 0.0020, Accuracy: 99.80%\n",
      "Cycle 2600, Loss: 0.0020, Accuracy: 99.80%\n",
      "Cycle 2700, Loss: 0.0039, Accuracy: 99.61%\n",
      "Cycle 2800, Loss: 0.0039, Accuracy: 99.61%\n",
      "Cycle 2900, Loss: 0.0020, Accuracy: 99.80%\n",
      "Cycle 3000, Loss: 0.0000, Accuracy: 100.00%\n",
      "Cycle 3100, Loss: 0.0000, Accuracy: 100.00%\n",
      "Cycle 3200, Loss: 0.0039, Accuracy: 99.61%\n",
      "Cycle 3300, Loss: 0.0039, Accuracy: 99.61%\n",
      "Cycle 3400, Loss: 0.0000, Accuracy: 100.00%\n",
      "Cycle 3500, Loss: 0.0000, Accuracy: 100.00%\n",
      "Cycle 3600, Loss: 0.0000, Accuracy: 100.00%\n",
      "Cycle 3700, Loss: 0.0019, Accuracy: 99.80%\n",
      "Cycle 3800, Loss: 0.0020, Accuracy: 99.80%\n",
      "Cycle 3900, Loss: 0.0000, Accuracy: 100.00%\n",
      "Cycle 4000, Loss: 0.0000, Accuracy: 100.00%\n",
      "Cycle 4100, Loss: 0.0039, Accuracy: 99.61%\n",
      "Cycle 4200, Loss: 0.0000, Accuracy: 100.00%\n",
      "Cycle 4300, Loss: 0.0020, Accuracy: 99.80%\n",
      "Cycle 4400, Loss: 0.0000, Accuracy: 100.00%\n",
      "Cycle 4500, Loss: 0.0039, Accuracy: 99.61%\n",
      "Cycle 4600, Loss: 0.0000, Accuracy: 100.00%\n",
      "Cycle 4700, Loss: 0.0000, Accuracy: 100.00%\n",
      "Cycle 4800, Loss: 0.0020, Accuracy: 99.80%\n",
      "Cycle 4900, Loss: 0.0000, Accuracy: 100.00%\n",
      "Cycle 5000, Loss: 0.0000, Accuracy: 100.00%\n",
      "Cycle 5100, Loss: 0.0020, Accuracy: 99.80%\n",
      "Cycle 5200, Loss: 0.0039, Accuracy: 99.61%\n",
      "Cycle 5300, Loss: 0.0020, Accuracy: 99.80%\n",
      "Cycle 5400, Loss: 0.0000, Accuracy: 100.00%\n",
      "Cycle 5500, Loss: 0.0000, Accuracy: 100.00%\n",
      "Cycle 5600, Loss: 0.0020, Accuracy: 99.80%\n",
      "Cycle 5700, Loss: 0.0000, Accuracy: 100.00%\n",
      "Cycle 5800, Loss: 0.0020, Accuracy: 99.80%\n",
      "Cycle 5900, Loss: 0.0000, Accuracy: 100.00%\n",
      "Cycle 6000, Loss: 0.0020, Accuracy: 99.80%\n",
      "Cycle 6100, Loss: 0.0000, Accuracy: 100.00%\n",
      "Cycle 6200, Loss: 0.0020, Accuracy: 99.80%\n",
      "Cycle 6300, Loss: 0.0000, Accuracy: 100.00%\n",
      "Cycle 6400, Loss: 0.0020, Accuracy: 99.80%\n",
      "Cycle 6500, Loss: 0.0001, Accuracy: 100.00%\n",
      "Cycle 6600, Loss: 0.0000, Accuracy: 100.00%\n",
      "Cycle 6700, Loss: 0.0008, Accuracy: 100.00%\n",
      "Cycle 6800, Loss: 0.0020, Accuracy: 99.80%\n",
      "Cycle 6900, Loss: 0.0020, Accuracy: 99.80%\n",
      "Cycle 7000, Loss: 0.0000, Accuracy: 100.00%\n",
      "Cycle 7100, Loss: 0.0020, Accuracy: 99.80%\n",
      "Cycle 7200, Loss: 0.0000, Accuracy: 100.00%\n",
      "Cycle 7300, Loss: 0.0020, Accuracy: 99.80%\n",
      "Cycle 7400, Loss: 0.0000, Accuracy: 100.00%\n",
      "Cycle 7500, Loss: 0.0000, Accuracy: 100.00%\n",
      "Cycle 7600, Loss: 0.0020, Accuracy: 99.80%\n",
      "Cycle 7700, Loss: 0.0020, Accuracy: 99.80%\n",
      "Cycle 7800, Loss: 0.0003, Accuracy: 100.00%\n",
      "Cycle 7900, Loss: 0.0000, Accuracy: 100.00%\n",
      "Cycle 8000, Loss: 0.0000, Accuracy: 100.00%\n",
      "Cycle 8100, Loss: 0.0000, Accuracy: 100.00%\n",
      "Cycle 8200, Loss: 0.0000, Accuracy: 100.00%\n",
      "Cycle 8300, Loss: 0.0020, Accuracy: 99.80%\n",
      "Cycle 8400, Loss: 0.0020, Accuracy: 99.80%\n",
      "Cycle 8500, Loss: 0.0000, Accuracy: 100.00%\n",
      "Cycle 8600, Loss: 0.0020, Accuracy: 99.80%\n",
      "Cycle 8700, Loss: 0.0000, Accuracy: 100.00%\n",
      "Cycle 8800, Loss: 0.0000, Accuracy: 100.00%\n",
      "Cycle 8900, Loss: 0.0020, Accuracy: 99.80%\n",
      "Cycle 9000, Loss: 0.0000, Accuracy: 100.00%\n",
      "Cycle 9100, Loss: 0.0000, Accuracy: 100.00%\n",
      "Cycle 9200, Loss: 0.0000, Accuracy: 100.00%\n",
      "Cycle 9300, Loss: 0.0000, Accuracy: 100.00%\n",
      "Cycle 9400, Loss: 0.0000, Accuracy: 100.00%\n",
      "Cycle 9500, Loss: 0.0000, Accuracy: 100.00%\n",
      "Cycle 9600, Loss: 0.0000, Accuracy: 100.00%\n",
      "Cycle 9700, Loss: 0.0000, Accuracy: 100.00%\n",
      "Cycle 9800, Loss: 0.0000, Accuracy: 100.00%\n",
      "Cycle 9900, Loss: 0.0020, Accuracy: 99.80%\n",
      "Prediction: 1, Confidence: 1.00\n"
     ]
    }
   ],
   "source": [
    "# input_batch, training_output_batch = model.get_batch(train_x, train_y, 64)\n",
    "# model.train_one_step(input_batch, training_output_batch)\n",
    "# model.predict(test_image_tensor)\n",
    "\n",
    "model.train(train_x, train_y, 10000, batch_size=512, learning_rate=10)\n",
    "\n",
    "prediction = model.predict(test_image_tensor) # This should be close to 1 if the model is working well\n",
    "print(f'Prediction: {prediction.argmax(dim=1).item()}, Confidence: {prediction.max().item():.2f}')"
   ]
  },
  {
   "cell_type": "code",
   "execution_count": 22,
   "id": "a704142a",
   "metadata": {},
   "outputs": [
    {
     "name": "stdout",
     "output_type": "stream",
     "text": [
      "Prediction: 1, Confidence: 1.00\n"
     ]
    }
   ],
   "source": [
    "prediction = model.predict(test_image_tensor) # This should be close to 1 if the model is working well\n",
    "print(f'Prediction: {prediction.argmax(dim=1).item()}, Confidence: {prediction.max().item():.2f}')"
   ]
  },
  {
   "cell_type": "code",
   "execution_count": 23,
   "id": "9221af8d",
   "metadata": {},
   "outputs": [
    {
     "name": "stderr",
     "output_type": "stream",
     "text": [
      "/tmp/ipykernel_7810/4219809048.py:21: UserWarning: This figure includes Axes that are not compatible with tight_layout, so results might be incorrect.\n",
      "  plt.tight_layout()\n"
     ]
    },
    {
     "data": {
      "image/png": "[encoded data removed]",
      "text/plain": [
       "<Figure size 1000x400 with 11 Axes>"
      ]
     },
     "metadata": {},
     "output_type": "display_data"
    }
   ],
   "source": [
    "import matplotlib.pyplot as plt\n",
    "import numpy as np\n",
    "\n",
    "# 1) Grab the learned weights (shape [784,10])\n",
    "W = model.weights.detach().cpu().numpy()\n",
    "\n",
    "# 2) Turn each neuron’s weight‐vector into a 28×28 image\n",
    "weight_imgs = [W[:, i].reshape(28, 28) for i in range(W.shape[1])]\n",
    "titles = [f'Neuron {i}' for i in range(W.shape[1])]\n",
    "\n",
    "# 3) Plot in a 2×5 grid with a grayscale colormap\n",
    "fig, axs = plt.subplots(2, 5, figsize=(10, 4))\n",
    "axs = axs.flatten()\n",
    "for ax, img, title in zip(axs, weight_imgs, titles):\n",
    "    im = ax.imshow(img, cmap='gray', vmin=W.min(), vmax=W.max())\n",
    "    ax.set_title(title)\n",
    "    ax.axis('off')\n",
    "\n",
    "# 4) Shared colorbar\n",
    "fig.colorbar(im, ax=axs.tolist(), orientation='horizontal', fraction=0.05, pad=0.1)\n",
    "plt.tight_layout()\n",
    "plt.show()\n"
   ]
  },
  {
   "cell_type": "code",
   "execution_count": 24,
   "id": "d70d45e4",
   "metadata": {},
   "outputs": [],
   "source": [
    "import numpy as np\n",
    "\n",
    "def increase_contrast(img: np.ndarray, low_percentile: float = 2, high_percentile: float = 98) -> np.ndarray:\n",
    "    \"\"\"\n",
    "    Increase contrast of a single-channel image by stretching its intensity\n",
    "    between the given percentiles to the full [0,1] range.\n",
    "    \n",
    "    Args:\n",
    "        img (np.ndarray): Input 2D array (e.g., 28×28 weight image).\n",
    "        low_percentile (float): Lower percentile cutoff (default: 2).\n",
    "        high_percentile (float): Upper percentile cutoff (default: 98).\n",
    "        \n",
    "    Returns:\n",
    "        np.ndarray: Contrast-stretched image with values in [0,1].\n",
    "    \"\"\"\n",
    "    # Compute percentile cutoffs\n",
    "    low, high = np.percentile(img, (low_percentile, high_percentile))\n",
    "    # Stretch and clip\n",
    "    stretched = (img - low) / (high - low)\n",
    "    stretched = np.clip(stretched, 0.0, 1.0)\n",
    "    return stretched\n",
    "\n",
    "# Example usage:\n",
    "# Assuming weight_imgs[0] is your (28,28) weight image:\n",
    "# enhanced_img = increase_contrast(weight_imgs[0], low_percentile=1, high_percentile=99)\n",
    "\n"
   ]
  },
  {
   "cell_type": "code",
   "execution_count": 25,
   "id": "558afcf1",
   "metadata": {},
   "outputs": [
    {
     "data": {
      "image/png": "[encoded data removed]",
      "text/plain": [
       "<Figure size 600x300 with 2 Axes>"
      ]
     },
     "metadata": {},
     "output_type": "display_data"
    }
   ],
   "source": [
    "\n",
    "# To visualize before/after:\n",
    "import matplotlib.pyplot as plt\n",
    "original = weight_imgs[0] # CHANGE 0 TO THE NUMBER YOU WANT TO SEE\n",
    "enhanced = increase_contrast(original, 20, 80)\n",
    "\n",
    "fig, (ax1, ax2) = plt.subplots(1, 2, figsize=(6, 3))\n",
    "ax1.imshow(original, cmap='gray')\n",
    "ax1.set_title('Original Weights')\n",
    "ax1.axis('off')\n",
    "ax2.imshow(enhanced, cmap='gray')\n",
    "ax2.set_title('Contrast-Enhanced')\n",
    "ax2.axis('off')\n",
    "plt.tight_layout()\n",
    "plt.show()"
   ]
  },
  {
   "cell_type": "code",
   "execution_count": 26,
   "id": "60320b4c",
   "metadata": {},
   "outputs": [
    {
     "data": {
      "text/plain": [
       "<matplotlib.image.AxesImage at 0x73fbfc51eb70>"
      ]
     },
     "execution_count": 26,
     "metadata": {},
     "output_type": "execute_result"
    },
    {
     "data": {
      "image/png": "[encoded data removed]",
      "text/plain": [
       "<Figure size 640x480 with 1 Axes>"
      ]
     },
     "metadata": {},
     "output_type": "display_data"
    }
   ],
   "source": [
    "enhanced_img = increase_contrast(weight_imgs[0], low_percentile=1, high_percentile=99)\n",
    "plt.imshow(enhanced_img, cmap='gray', vmin=W.min(), vmax=W.max())\n"
   ]
  },
  {
   "cell_type": "code",
   "execution_count": 27,
   "id": "f75edeed",
   "metadata": {},
   "outputs": [
    {
     "name": "stderr",
     "output_type": "stream",
     "text": [
      "/tmp/ipykernel_7810/3756385829.py:1: DeprecationWarning: __array_wrap__ must accept context and return_scalar arguments (positionally) in the future. (Deprecated NumPy 2.0)\n",
      "  F.softmax(((test_image_tensor @ W) + B), dim=1)\n"
     ]
    },
    {
     "ename": "TypeError",
     "evalue": "unsupported operand type(s) for +: 'Tensor' and 'functools.partial'",
     "output_type": "error",
     "traceback": [
      "\u001b[0;31m---------------------------------------------------------------------------\u001b[0m",
      "\u001b[0;31mTypeError\u001b[0m                                 Traceback (most recent call last)",
      "Cell \u001b[0;32mIn[27], line 1\u001b[0m\n\u001b[0;32m----> 1\u001b[0m F\u001b[38;5;241m.\u001b[39msoftmax((\u001b[43m(\u001b[49m\u001b[43mtest_image_tensor\u001b[49m\u001b[43m \u001b[49m\u001b[38;5;241;43m@\u001b[39;49m\u001b[43m \u001b[49m\u001b[43mW\u001b[49m\u001b[43m)\u001b[49m\u001b[43m \u001b[49m\u001b[38;5;241;43m+\u001b[39;49m\u001b[43m \u001b[49m\u001b[43mB\u001b[49m), dim\u001b[38;5;241m=\u001b[39m\u001b[38;5;241m1\u001b[39m)\n",
      "\u001b[0;31mTypeError\u001b[0m: unsupported operand type(s) for +: 'Tensor' and 'functools.partial'"
     ]
    }
   ],
   "source": [
    "F.softmax(((test_image_tensor @ W) + B), dim=1)\n"
   ]
  },
  {
   "cell_type": "code",
   "execution_count": null,
   "id": "4a464eae",
   "metadata": {},
   "outputs": [
    {
     "name": "stderr",
     "output_type": "stream",
     "text": [
      "/tmp/ipykernel_4534/3343409432.py:1: DeprecationWarning: __array_wrap__ must accept context and return_scalar arguments (positionally) in the future. (Deprecated NumPy 2.0)\n",
      "  test_image_tensor @ W + B\n"
     ]
    },
    {
     "data": {
      "text/plain": [
       "tensor([[ 29.4721, -12.6377]])"
      ]
     },
     "execution_count": 24,
     "metadata": {},
     "output_type": "execute_result"
    }
   ],
   "source": [
    "test_image_tensor @ W + B"
   ]
  },
  {
   "cell_type": "code",
   "execution_count": null,
   "id": "3731fe8c",
   "metadata": {},
   "outputs": [
    {
     "name": "stderr",
     "output_type": "stream",
     "text": [
      "/tmp/ipykernel_4534/403436398.py:1: UserWarning: The use of `x.T` on tensors of dimension other than 2 to reverse their shape is deprecated and it will throw an error in a future release. Consider `x.mT` to transpose batches of matrices or `x.permute(*torch.arange(x.ndim - 1, -1, -1))` to reverse the dimensions of a tensor. (Triggered internally at /pytorch/aten/src/ATen/native/TensorShape.cpp:4413.)\n",
      "  test_image_tensor[0].T @ W[:,1]  # This will show the first row of the test image tensor, which is a flattened version of the image\n",
      "/tmp/ipykernel_4534/403436398.py:1: DeprecationWarning: __array_wrap__ must accept context and return_scalar arguments (positionally) in the future. (Deprecated NumPy 2.0)\n",
      "  test_image_tensor[0].T @ W[:,1]  # This will show the first row of the test image tensor, which is a flattened version of the image\n"
     ]
    },
    {
     "data": {
      "text/plain": [
       "tensor(-12.6252)"
      ]
     },
     "execution_count": 25,
     "metadata": {},
     "output_type": "execute_result"
    }
   ],
   "source": [
    "test_image_tensor[0].T @ W[:,1]  # This will show the first row of the test image tensor, which is a flattened version of the image"
   ]
  },
  {
   "cell_type": "code",
   "execution_count": null,
   "id": "7ea22642",
   "metadata": {},
   "outputs": [
    {
     "data": {
      "text/plain": [
       "array([ 1.1929805 ,  0.7287134 ,  0.41460815,  0.2748641 ,  0.9894329 , -0.5075156 , -0.25996947, -0.6549473 ,  2.0644062 ,  1.0519783 ,  0.16508718,  1.6440936 ,  0.81991935,  1.3730853 ,\n",
       "        1.1380095 , -1.5265529 ,  0.86807877,  0.47198674, -0.20262134,  1.6368635 ,  0.7211331 ,  1.212498  ,  0.53219223,  0.02047641,  0.38263208, -1.7236974 ,  0.43514356, -0.58709854],\n",
       "      dtype=float32)"
      ]
     },
     "execution_count": 26,
     "metadata": {},
     "output_type": "execute_result"
    }
   ],
   "source": [
    "W[5*28:5*28+28, 0]  # This will show the weights for the first neurone (for digit \"3\") for the first row of the test image tensor"
   ]
  },
  {
   "cell_type": "code",
   "execution_count": null,
   "id": "e8b54be1",
   "metadata": {},
   "outputs": [
    {
     "data": {
      "text/plain": [
       "torch.Size([1, 784])"
      ]
     },
     "execution_count": 27,
     "metadata": {},
     "output_type": "execute_result"
    }
   ],
   "source": [
    "test_image_tensor.shape"
   ]
  },
  {
   "cell_type": "code",
   "execution_count": null,
   "id": "5cf2ba96",
   "metadata": {},
   "outputs": [
    {
     "name": "stderr",
     "output_type": "stream",
     "text": [
      "/tmp/ipykernel_4534/3576976545.py:39: UserWarning: This figure includes Axes that are not compatible with tight_layout, so results might be incorrect.\n",
      "  plt.tight_layout(rect=[0,0,1,1])\n"
     ]
    },
    {
     "data": {
      "image/png": "[encoded data removed]",
      "text/plain": [
       "<Figure size 600x300 with 3 Axes>"
      ]
     },
     "metadata": {},
     "output_type": "display_data"
    }
   ],
   "source": [
    "import matplotlib.pyplot as plt\n",
    "import numpy as np\n",
    "\n",
    "# Pull out your weights tensor and move to CPU/NumPy\n",
    "W = model.weights.detach().cpu().numpy()  # shape is either (784,2) or (2,784)\n",
    "\n",
    "# Build two sets of candidate images:\n",
    "# 1) assuming neurons are columns in W (shape [784,2])\n",
    "# 2) assuming neurons are rows in W (shape [2,784])\n",
    "candidates = []\n",
    "if W.shape == (784, 2):\n",
    "    # Option A: each column is length-784\n",
    "    imgsA = [W[:,i].reshape(28,28) for i in range(2)]\n",
    "    candidates.append(('cols→reshape', imgsA))\n",
    "if W.shape == (2, 784):\n",
    "    # Option B: each row is length-784\n",
    "    imgsB = [W[i,:].reshape(28,28) for i in range(2)]\n",
    "    candidates.append(('rows→reshape', imgsB))\n",
    "\n",
    "# If neither matched, try transposing\n",
    "if not candidates:\n",
    "    Wt = W.T\n",
    "    if Wt.shape == (784,2):\n",
    "        imgsT = [Wt[:,i].reshape(28,28) for i in range(2)]\n",
    "        candidates.append(('transpose→cols→reshape', imgsT))\n",
    "\n",
    "# Plot all candidates\n",
    "fig, axes = plt.subplots(len(candidates), 2, figsize=(6, 3*len(candidates)))\n",
    "if len(candidates)==1: axes = axes[None,:]  # unify indexing\n",
    "for row, (label, imgs) in enumerate(candidates):\n",
    "    fig.text(0.5, 1 - (row*0.5 + 0.1), label, ha='center', va='center', fontsize=12)\n",
    "    for col, img in enumerate(imgs):\n",
    "        ax = axes[row, col]\n",
    "        im = ax.imshow(img, cmap='seismic', vmin=W.min(), vmax=W.max())\n",
    "        ax.set_title(f'Neuron {col}')\n",
    "        ax.axis('off')\n",
    "\n",
    "fig.colorbar(im, ax=axes.ravel().tolist(), orientation='horizontal', fraction=0.04, pad=0.02)\n",
    "plt.tight_layout(rect=[0,0,1,1])\n",
    "plt.show()\n"
   ]
  },
  {
   "cell_type": "code",
   "execution_count": null,
   "id": "cb89de82",
   "metadata": {},
   "outputs": [
    {
     "data": {
      "text/plain": [
       "<matplotlib.image.AxesImage at 0x74b315f24110>"
      ]
     },
     "execution_count": 29,
     "metadata": {},
     "output_type": "execute_result"
    },
    {
     "data": {
      "image/png": "[encoded data removed]",
      "text/plain": [
       "<Figure size 640x480 with 1 Axes>"
      ]
     },
     "metadata": {},
     "output_type": "display_data"
    }
   ],
   "source": [
    "test_imgs = test_image_tensor.reshape(28,28)\n",
    "plt.imshow(test_imgs, cmap='Greys')\n"
   ]
  },
  {
   "cell_type": "code",
   "execution_count": null,
   "id": "eeb4a668",
   "metadata": {},
   "outputs": [
    {
     "data": {
      "text/plain": [
       "tensor([[1.0000e+00, 5.1517e-19]], grad_fn=<SoftmaxBackward0>)"
      ]
     },
     "execution_count": 30,
     "metadata": {},
     "output_type": "execute_result"
    }
   ],
   "source": [
    "model.predict(test_image_tensor)"
   ]
  },
  {
   "cell_type": "code",
   "execution_count": null,
   "id": "eb2b39f6",
   "metadata": {},
   "outputs": [
    {
     "data": {
      "text/plain": [
       "torch.Size([28, 28])"
      ]
     },
     "execution_count": 31,
     "metadata": {},
     "output_type": "execute_result"
    }
   ],
   "source": [
    "tensor(Image.open(example_image_path)).shape"
   ]
  },
  {
   "cell_type": "code",
   "execution_count": null,
   "id": "cb236983",
   "metadata": {},
   "outputs": [
    {
     "ename": "RuntimeError",
     "evalue": "mat1 and mat2 shapes cannot be multiplied (1x2352 and 784x2)",
     "output_type": "error",
     "traceback": [
      "\u001b[31m---------------------------------------------------------------------------\u001b[39m",
      "\u001b[31mRuntimeError\u001b[39m                              Traceback (most recent call last)",
      "\u001b[36mCell\u001b[39m\u001b[36m \u001b[39m\u001b[32mIn[32]\u001b[39m\u001b[32m, line 1\u001b[39m\n\u001b[32m----> \u001b[39m\u001b[32m1\u001b[39m \u001b[43mmodel\u001b[49m\u001b[43m.\u001b[49m\u001b[43mpredict\u001b[49m\u001b[43m(\u001b[49m\u001b[43mtensor\u001b[49m\u001b[43m(\u001b[49m\u001b[43mexample_image\u001b[49m\u001b[43m)\u001b[49m\u001b[43m.\u001b[49m\u001b[43mview\u001b[49m\u001b[43m(\u001b[49m\u001b[32;43m1\u001b[39;49m\u001b[43m,\u001b[49m\u001b[43m \u001b[49m\u001b[43m-\u001b[49m\u001b[32;43m1\u001b[39;49m\u001b[43m)\u001b[49m\u001b[43m)\u001b[49m \u001b[38;5;66;03m# This will give us the output of our model for the example image\u001b[39;00m\n",
      "\u001b[36mCell\u001b[39m\u001b[36m \u001b[39m\u001b[32mIn[14]\u001b[39m\u001b[32m, line 9\u001b[39m, in \u001b[36mOneLayerPerceptron.predict\u001b[39m\u001b[34m(self, x)\u001b[39m\n\u001b[32m      7\u001b[39m \u001b[38;5;28;01mdef\u001b[39;00m\u001b[38;5;250m \u001b[39m\u001b[34mpredict\u001b[39m(\u001b[38;5;28mself\u001b[39m, x):\n\u001b[32m      8\u001b[39m     \u001b[38;5;66;03m# return F.softmax(((x @ self.weights) + self.biases).sigmoid(), dim=1)\u001b[39;00m\n\u001b[32m----> \u001b[39m\u001b[32m9\u001b[39m     \u001b[38;5;28;01mreturn\u001b[39;00m F.softmax((\u001b[43mx\u001b[49m\u001b[43m \u001b[49m\u001b[43m@\u001b[49m\u001b[43m \u001b[49m\u001b[38;5;28;43mself\u001b[39;49m\u001b[43m.\u001b[49m\u001b[43mweights\u001b[49m) + \u001b[38;5;28mself\u001b[39m.biases, dim=\u001b[32m1\u001b[39m)\n",
      "\u001b[31mRuntimeError\u001b[39m: mat1 and mat2 shapes cannot be multiplied (1x2352 and 784x2)"
     ]
    }
   ],
   "source": [
    "model.predict(tensor(example_image).view(1, -1)) # This will give us the output of our model for the example image"
   ]
  },
  {
   "cell_type": "code",
   "execution_count": null,
   "id": "99118016",
   "metadata": {},
   "outputs": [
    {
     "data": {
      "text/plain": [
       "(torch.Size([784, 2]), torch.Size([2]))"
      ]
     },
     "execution_count": 35,
     "metadata": {},
     "output_type": "execute_result"
    }
   ],
   "source": [
    "model.weights.shape, model.biases.shape"
   ]
  },
  {
   "cell_type": "code",
   "execution_count": null,
   "id": "41406dbe",
   "metadata": {},
   "outputs": [],
   "source": [
    "from PIL import Image\n",
    "import numpy as np\n",
    "import matplotlib.pyplot as plt\n",
    "\n",
    "def load_and_preprocess_np(image_path, crop_box=None):\n",
    "    \"\"\"\n",
    "    Load an image, optionally crop, resize to 28×28 grayscale,\n",
    "    normalize to [0,1], flatten to (784,), and display the image.\n",
    "    \"\"\"\n",
    "    # Load and optional crop\n",
    "    img = Image.open(image_path)\n",
    "    if crop_box:\n",
    "        img = img.crop(crop_box)\n",
    "    # Grayscale & resize\n",
    "    img = img.convert('L').resize((28,28), resample=Image.LANCZOS)\n",
    "    # Normalize to [0,1]\n",
    "    arr = np.array(img, dtype=np.float32) / 255.0  # shape (28,28)\n",
    "    # Display the processed image\n",
    "    plt.figure(figsize=(3,3))\n",
    "    plt.imshow(arr, cmap='gray', vmin=0, vmax=1)\n",
    "    plt.title('Preprocessed 28×28 Image')\n",
    "    plt.axis('off')\n",
    "    plt.show()\n",
    "    # Flatten to (784,)\n",
    "    flat = arr.ravel()\n",
    "    return flat\n",
    "\n",
    "# Example usage:\n",
    "\n"
   ]
  },
  {
   "cell_type": "code",
   "execution_count": null,
   "id": "8ae36acf",
   "metadata": {},
   "outputs": [
    {
     "data": {
      "image/png": "[encoded data removed]",
      "text/plain": [
       "<Figure size 300x300 with 1 Axes>"
      ]
     },
     "metadata": {},
     "output_type": "display_data"
    },
    {
     "name": "stdout",
     "output_type": "stream",
     "text": [
      "Flat vector shape: (784,)\n",
      "Value range: 0.35686275 0.7254902\n"
     ]
    }
   ],
   "source": [
    "flat_vector = load_and_preprocess_np('lesson_images/phone_crop.jpg')\n",
    "print(\"Flat vector shape:\", flat_vector.shape)   # (784,)\n",
    "print(\"Value range:\", flat_vector.min(), flat_vector.max())  # values in [0.0, 1.0]"
   ]
  },
  {
   "cell_type": "code",
   "execution_count": null,
   "id": "b586ef17",
   "metadata": {},
   "outputs": [
    {
     "data": {
      "text/plain": [
       "tensor([[5.5483e-07, 1.0000e+00]], grad_fn=<SoftmaxBackward0>)"
      ]
     },
     "execution_count": 36,
     "metadata": {},
     "output_type": "execute_result"
    }
   ],
   "source": [
    "model.predict(tensor(flat_vector).reshape(1, -1))  # Reshape to (1, 784) for prediction"
   ]
  },
  {
   "cell_type": "markdown",
   "id": "4adb76cb",
   "metadata": {},
   "source": [
    "## Neural Nets and Deep Learning"
   ]
  },
  {
   "cell_type": "markdown",
   "id": "64f743a2",
   "metadata": {},
   "source": []
  },
  {
   "cell_type": "markdown",
   "id": "0ca3bc92",
   "metadata": {},
   "source": [
    "## Convolutions"
   ]
  },
  {
   "cell_type": "markdown",
   "id": "ef1722da",
   "metadata": {},
   "source": [
    "<img src=\"lesson_images/chapter9_conv_basic.png\" id=\"basic_conv\" caption=\"Applying a kernel to one location\" alt=\"Applying a kernel to one location\" width=\"700\">"
   ]
  },
  {
   "cell_type": "markdown",
   "id": "f6914e6e",
   "metadata": {},
   "source": []
  },
  {
   "cell_type": "code",
   "execution_count": null,
   "id": "e242de1c",
   "metadata": {},
   "outputs": [],
   "source": [
    "import numpy as np\n",
    "import matplotlib.pyplot as plt"
   ]
  },
  {
   "cell_type": "code",
   "execution_count": null,
   "id": "f1788fa6",
   "metadata": {},
   "outputs": [
    {
     "data": {
      "image/png": "[encoded data removed]",
      "text/plain": [
       "<Figure size 1500x500 with 4 Axes>"
      ]
     },
     "metadata": {},
     "output_type": "display_data"
    }
   ],
   "source": [
    "import numpy as np\n",
    "import matplotlib.pyplot as plt\n",
    "\n",
    "# 1) Create a noisy image with a thicker circular ring\n",
    "size = 100\n",
    "np.random.seed(0)\n",
    "img = np.random.rand(size, size)  # random noise background\n",
    "yy, xx = np.mgrid[:size, :size]\n",
    "\n",
    "centres = [(10, 15), (32, 75), (40, 20), (63, 50), (80, 80)]\n",
    "r_outer, r_inner = 7, 4  # thicker ring radii\n",
    "\n",
    "\n",
    "for center in centres:\n",
    "    yy_center, xx_center = center\n",
    "    distance_sq = (xx - xx_center)**2 + (yy - yy_center)**2\n",
    "    ring_mask = (distance_sq <= r_outer**2) & (distance_sq >= r_inner**2)\n",
    "    img[ring_mask] = 1.0  # bright thicker ring\n",
    "\n",
    "\n",
    "# 2) Create a matching thicker ring kernel\n",
    "k_size = 21\n",
    "yyk, xxk = np.mgrid[:k_size, :k_size]\n",
    "k_center = k_size // 2\n",
    "# Scale radii proportional to image/kern ratio\n",
    "scale = 1\n",
    "k_outer = int(r_outer * scale)\n",
    "k_inner = int(r_inner * scale)\n",
    "kernel_mask = ((xxk - k_center)**2 + (yyk - k_center)**2 <= k_outer**2) & \\\n",
    "              ((xxk - k_center)**2 + (yyk - k_center)**2 >= k_inner**2)\n",
    "kernel = kernel_mask.astype(float)\n",
    "\n",
    "# 3) Define stride-1 convolution\n",
    "def conv2d(image, kernel):\n",
    "    ih, iw = image.shape\n",
    "    kh, kw = kernel.shape\n",
    "    oh, ow = ih - kh + 1, iw - kw + 1\n",
    "    out = np.zeros((oh, ow))\n",
    "    for i in range(oh):\n",
    "        for j in range(ow):\n",
    "            out[i, j] = np.sum(image[i:i+kh, j:j+kw] * kernel)\n",
    "    return out\n",
    "\n",
    "# 4) Compute the convolution response\n",
    "response = conv2d(img, kernel)\n",
    "\n",
    "# 5) Plot results\n",
    "fig, axes = plt.subplots(1, 3, figsize=(15, 5))\n",
    "\n",
    "# Noisy image with thick ring\n",
    "axes[0].imshow(img, cmap='gray')\n",
    "axes[0].set_title('Noisy Image with Rings')\n",
    "axes[0].axis('off')\n",
    "\n",
    "# Thicker ring kernel\n",
    "axes[1].imshow(kernel, cmap='gray')\n",
    "axes[1].set_title('Ring Kernel')\n",
    "axes[1].axis('off')\n",
    "\n",
    "# Convolution response heatmap\n",
    "# im = axes[2].imshow(response, cmap='hot', interpolation='nearest')\n",
    "im = axes[2].imshow(response, cmap='grey', interpolation='nearest')\n",
    "\n",
    "axes[2].set_title('Convolution Response (stride=1)')\n",
    "axes[2].axis('off')\n",
    "\n",
    "# Colorbar\n",
    "fig.colorbar(im, ax=axes[2], fraction=0.046, pad=0.04)\n",
    "plt.tight_layout()\n",
    "plt.show()\n"
   ]
  },
  {
   "cell_type": "markdown",
   "id": "38b53abe",
   "metadata": {},
   "source": [
    "\"In 2013 a PhD student, Matt Zeiler, and his supervisor, Rob Fergus, published the paper [\"Visualizing and Understanding Convolutional Networks\"](https://arxiv.org/pdf/1311.2901.pdf), which showed how to visualize the neural network weights learned in each layer of a model. They carefully analyzed the model that won the 2012 ImageNet competition, and used this analysis to greatly improve the model, such that they were able to go on to win the 2013 competition! <<img_layer1>> is the picture that they published of the first layer's weights.\""
   ]
  },
  {
   "cell_type": "markdown",
   "id": "ed7cc999",
   "metadata": {},
   "source": [
    "<img src=\"lesson_images/layer1.png\" alt=\"Activations of the first layer of a CNN\" width=\"300\" caption=\"Activations of the first layer of a CNN (courtesy of Matthew D. Zeiler and Rob Fergus)\" id=\"img_layer1\">\n"
   ]
  },
  {
   "cell_type": "markdown",
   "id": "77a00085",
   "metadata": {},
   "source": [
    "<img src=\"lesson_images/layer2.png\" alt=\"Activations of the second layer of a CNN\" width=\"800\" caption=\"Activations of the second layer of a CNN (courtesy of Matthew D. Zeiler and Rob Fergus)\" id=\"img_layer2\">"
   ]
  },
  {
   "cell_type": "markdown",
   "id": "2d5c8e9a",
   "metadata": {},
   "source": [
    "<img src=\"lesson_images/chapter2_layer3.PNG\" alt=\"Activations of the third layer of a CNN\" width=\"800\" caption=\"Activations of the third layer of a CNN (courtesy of Matthew D. Zeiler and Rob Fergus)\" id=\"img_layer3\">"
   ]
  },
  {
   "cell_type": "markdown",
   "id": "38544d50",
   "metadata": {},
   "source": [
    "<img src=\"lesson_images/chapter2_layer4and5.PNG\" alt=\"Activations of layers 4 and 5 of a CNN\" width=\"800\" caption=\"Activations of layers 4 and 5 of a CNN (courtesy of Matthew D. Zeiler and Rob Fergus)\" id=\"img_layer4\">"
   ]
  },
  {
   "cell_type": "code",
   "execution_count": null,
   "id": "fedff1b9",
   "metadata": {},
   "outputs": [],
   "source": []
  },
  {
   "cell_type": "markdown",
   "id": "5ed913f4",
   "metadata": {},
   "source": [
    "### 14_resnet.ipynb - **LOSS SMOOTHING!!!**\n",
    "\n",
    "**NOTA BENE:** Perhaps relevant to sampling CF thoughts re a Ricii-flow/normalising flow like method"
   ]
  },
  {
   "cell_type": "markdown",
   "id": "e2197373",
   "metadata": {},
   "source": [
    "\"Now we're making good progress!\n",
    "\n",
    "The authors of the ResNet paper went on to win the 2015 ImageNet challenge. At the time, this was by far the most important annual event in computer vision. We have already seen another ImageNet winner: the 2013 winners, Zeiler and Fergus. It is interesting to note that in both cases the starting points for the breakthroughs were experimental observations: observations about what layers actually learn, in the case of Zeiler and Fergus, and observations about which kinds of networks can be trained, in the case of the ResNet authors. This ability to design and analyze thoughtful experiments, or even just to see an unexpected result, say \"Hmmm, that's interesting,\" and then, most importantly, set about figuring out what on earth is going on, with great tenacity, is at the heart of many scientific discoveries. Deep learning is not like pure mathematics. It is a heavily experimental field, so it's important to be a strong practitioner, not just a theoretician.\n",
    "\n",
    "Since the ResNet was introduced, it's been widely studied and applied to many domains. One of the most interesting papers, published in 2018, is Hao Li et al.'s [\"Visualizing the Loss Landscape of Neural Nets\"](https://arxiv.org/abs/1712.09913). It shows that using skip connections helps smooth the loss function, which makes training easier as it avoids falling into a very sharp area. <<resnet_surface>> shows a stunning picture from the paper, illustrating the difference between the bumpy terrain that SGD has to navigate to optimize a regular CNN (left) versus the smooth surface of a ResNet (right).\""
   ]
  },
  {
   "cell_type": "markdown",
   "id": "d5aedccf",
   "metadata": {},
   "source": [
    "<img alt=\"Impact of ResNet on loss landscape\" width=\"600\" caption=\"Impact of ResNet on loss landscape (courtesy of Hao Li et al.)\" id=\"resnet_surface\" src=\"lesson_images/att_00044.png\">"
   ]
  }
 ],
 "metadata": {
  "kernelspec": {
   "display_name": ".venv",
   "language": "python",
   "name": "python3"
  },
  "language_info": {
   "codemirror_mode": {
    "name": "ipython",
    "version": 3
   },
   "file_extension": ".py",
   "mimetype": "text/x-python",
   "name": "python",
   "nbconvert_exporter": "python",
   "pygments_lexer": "ipython3",
   "version": "3.12.3"
  }
 },
 "nbformat": 4,
 "nbformat_minor": 5
}
